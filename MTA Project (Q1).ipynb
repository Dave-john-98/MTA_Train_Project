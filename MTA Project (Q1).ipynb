{
 "cells": [
  {
   "cell_type": "code",
   "execution_count": 51,
   "id": "36296e28-a26b-4864-a54d-0ff5b157ebbb",
   "metadata": {
    "tags": []
   },
   "outputs": [
    {
     "name": "stdout",
     "output_type": "stream",
     "text": [
      "Requirement already satisfied: sodapy in /Users/abhayshah/anaconda3/lib/python3.11/site-packages (2.2.0)\n",
      "Requirement already satisfied: requests>=2.28.1 in /Users/abhayshah/anaconda3/lib/python3.11/site-packages (from sodapy) (2.31.0)\n",
      "Requirement already satisfied: charset-normalizer<4,>=2 in /Users/abhayshah/anaconda3/lib/python3.11/site-packages (from requests>=2.28.1->sodapy) (2.0.4)\n",
      "Requirement already satisfied: idna<4,>=2.5 in /Users/abhayshah/anaconda3/lib/python3.11/site-packages (from requests>=2.28.1->sodapy) (3.4)\n",
      "Requirement already satisfied: urllib3<3,>=1.21.1 in /Users/abhayshah/anaconda3/lib/python3.11/site-packages (from requests>=2.28.1->sodapy) (1.26.16)\n",
      "Requirement already satisfied: certifi>=2017.4.17 in /Users/abhayshah/anaconda3/lib/python3.11/site-packages (from requests>=2.28.1->sodapy) (2023.7.22)\n",
      "Requirement already satisfied: pymongo in /Users/abhayshah/anaconda3/lib/python3.11/site-packages (4.6.3)\n",
      "Requirement already satisfied: dnspython<3.0.0,>=1.16.0 in /Users/abhayshah/anaconda3/lib/python3.11/site-packages (from pymongo) (2.6.1)\n",
      "Requirement already satisfied: flask in /Users/abhayshah/anaconda3/lib/python3.11/site-packages (3.0.3)\n",
      "Requirement already satisfied: Werkzeug>=3.0.0 in /Users/abhayshah/anaconda3/lib/python3.11/site-packages (from flask) (3.0.2)\n",
      "Requirement already satisfied: Jinja2>=3.1.2 in /Users/abhayshah/anaconda3/lib/python3.11/site-packages (from flask) (3.1.2)\n",
      "Requirement already satisfied: itsdangerous>=2.1.2 in /Users/abhayshah/anaconda3/lib/python3.11/site-packages (from flask) (2.1.2)\n",
      "Requirement already satisfied: click>=8.1.3 in /Users/abhayshah/anaconda3/lib/python3.11/site-packages (from flask) (8.1.7)\n",
      "Requirement already satisfied: blinker>=1.6.2 in /Users/abhayshah/anaconda3/lib/python3.11/site-packages (from flask) (1.7.0)\n",
      "Requirement already satisfied: MarkupSafe>=2.0 in /Users/abhayshah/anaconda3/lib/python3.11/site-packages (from Jinja2>=3.1.2->flask) (2.1.1)\n",
      "Requirement already satisfied: tomlkit in /Users/abhayshah/anaconda3/lib/python3.11/site-packages (0.11.1)\n",
      "Requirement already satisfied: pyspark in /Users/abhayshah/anaconda3/lib/python3.11/site-packages (3.5.1)\n",
      "Requirement already satisfied: py4j==0.10.9.7 in /Users/abhayshah/anaconda3/lib/python3.11/site-packages (from pyspark) (0.10.9.7)\n"
     ]
    }
   ],
   "source": [
    "#We install all of the packages necessary\n",
    "#Sodapy is for Socrata\n",
    "!pip3 install sodapy\n",
    "!pip3 install -U pymongo\n",
    "!pip install -U flask\n",
    "!pip3 install tomlkit\n",
    "!pip install -U pyspark"
   ]
  },
  {
   "cell_type": "code",
   "execution_count": 52,
   "id": "30ca07aa-2d8a-4d65-bbe4-d130f5045103",
   "metadata": {
    "tags": []
   },
   "outputs": [],
   "source": [
    "#We import the basic packages to read dataframe, API, Json files, and MongoDB\n",
    "import pandas as pd\n",
    "from sodapy import Socrata\n",
    "import json \n",
    "from json import loads\n",
    "from pymongo import MongoClient\n",
    "from flask import Flask, request, render_template"
   ]
  },
  {
   "cell_type": "code",
   "execution_count": 53,
   "id": "7a49d825-b057-442b-adbb-2892053fa6c3",
   "metadata": {
    "tags": []
   },
   "outputs": [
    {
     "data": {
      "text/plain": [
       "Collection(Database(MongoClient(host=['localhost:27017'], document_class=dict, tz_aware=False, connect=True), 'TermProject'), 'test_collection')"
      ]
     },
     "execution_count": 53,
     "metadata": {},
     "output_type": "execute_result"
    }
   ],
   "source": [
    "#We start and run MongoDB, we call our database TermProject\n",
    "client1 = MongoClient('localhost',27017)\n",
    "dbb = client1.TermProject\n",
    "collection = dbb.test_collection\n",
    "collection"
   ]
  },
  {
   "cell_type": "code",
   "execution_count": 54,
   "id": "151d0e11-e0f0-4029-9290-137b14fb3681",
   "metadata": {
    "tags": []
   },
   "outputs": [
    {
     "name": "stderr",
     "output_type": "stream",
     "text": [
      "WARNING:root:Requests made without an app_token will be subject to strict throttling limits.\n"
     ]
    }
   ],
   "source": [
    "#This extracts the host server, which is the NYS Governmental Website\n",
    "client = Socrata(\"data.ny.gov\", None)"
   ]
  },
  {
   "cell_type": "markdown",
   "id": "34892e18-fa5e-477c-aa18-2720b307a18d",
   "metadata": {},
   "source": [
    "Above, we install and import our packages, and run MongoDB. This is the start of our project."
   ]
  },
  {
   "cell_type": "code",
   "execution_count": 55,
   "id": "45a397a0-8673-4ee3-8bd6-38fe0a2ec07b",
   "metadata": {
    "tags": []
   },
   "outputs": [],
   "source": [
    "start_date = '2023-03-01'\n",
    "end_date = '2023-03-31'\n",
    "rider = client.get(\"wujg-7c2s\", where=f\"transit_timestamp >= '{start_date}' AND transit_timestamp <= '{end_date}'\",limit=2500000)"
   ]
  },
  {
   "cell_type": "markdown",
   "id": "d98ff05d-25ac-4585-9335-b63fdbfa5d42",
   "metadata": {},
   "source": [
    "Above, we request to retrieve data from NY's dataset identified by the API ID \"wujg-7c2s\" within March 2023. The request is filtered to include only records with a \"transit_timestamp\". The limit parameter is set to 2,500,000 rows. This is how we acquire all 4 of our datasets"
   ]
  },
  {
   "cell_type": "code",
   "execution_count": 56,
   "id": "079b24ab-0cfb-4f80-b27e-006a6ebfb0b3",
   "metadata": {
    "tags": []
   },
   "outputs": [],
   "source": [
    "#Convert into dataframe using PD\n",
    "ridership = pd.DataFrame.from_records(rider)\n",
    "ridership[['Date', 'Time']] = ridership['transit_timestamp'].str.split('T', expand=True)\n",
    "\n",
    "#We split the data and time using str.split, then we extract the day and print a new column that indicates weekday or weekend.\n",
    "from datetime import datetime\n",
    "def day_type(date_str):\n",
    "    day = int(date_str.split('-')[2])\n",
    "    if (day + 4) % 7 < 5:\n",
    "        return 1\n",
    "    else:\n",
    "        return 2\n",
    "\n",
    "ridership['day_type'] = ridership['Date'].apply(lambda x: day_type(x))"
   ]
  },
  {
   "cell_type": "code",
   "execution_count": 57,
   "id": "372528a5-6d47-4303-847d-a8d5a0cca4c5",
   "metadata": {
    "jupyter": {
     "outputs_hidden": true
    },
    "tags": []
   },
   "outputs": [
    {
     "data": {
      "text/plain": [
       "array(['28', '280', '282', '283', '284', '286', '287', '288', '289',\n",
       "       '290', '190', '291', '292', '293', '294', '295', '296', '297',\n",
       "       '298', '299', '3', '30', '300', '301', '303', '304', '305', '306',\n",
       "       '307', '308', '309', '31', '310', '311', '312', '313', '314',\n",
       "       '318', '316', '319', '32', '320', '321', '323', '324', '325',\n",
       "       '326', '327', '328', '329', '33', '333', '334', '153', '336',\n",
       "       '337', '339', '34', '340', '341', '343', '344', '345', '346',\n",
       "       '347', '348', '349', '35', '350', '351', '352', '353', '354',\n",
       "       '355', '356', '357', '358', '359', '36', '360', '361', '362',\n",
       "       '363', '364', '365', '366', '367', '368', '369', '37', '370',\n",
       "       '371', '372', '373', '374', '375', '376', '377', '378', '379',\n",
       "       '38', '380', '381', '382', '383', '384', '385', '386', '387',\n",
       "       '388', '39', '391', '392', '393', '394', '395', '396', '397',\n",
       "       '398', '399', '4', '403', '404', '405', '407', '409', '41', '413',\n",
       "       '414', '416', '417', '418', '419', '42', '420', '421', '422',\n",
       "       '423', '424', '425', '426', '427', '428', '429', '43', '430',\n",
       "       '431', '432', '433', '434', '436', '437', '438', '439', '44',\n",
       "       '440', '441', '442', '444', '447', '448', '449', '45', '450',\n",
       "       '451', '452', '453', '455', '456', '457', '458', '459', '46',\n",
       "       '460', '461', '463', '464', '47', '471', '475', '476', '477', '48',\n",
       "       '49', '5', '50', '501', '502', '51', '52', '53', '54', '55', '56',\n",
       "       '57', '58', '59', '6', '60', '601', '602', '603', '604', '605',\n",
       "       '606', '607', '608', '609', '61', '610', '611', '612', '613',\n",
       "       '614', '615', '616', '617', '618', '619', '62', '620', '621',\n",
       "       '622', '623', '624', '625', '626', '627', '628', '629', '630',\n",
       "       '635', '636', '64', '65', '66', '67', '68', '69', '70', '71', '72',\n",
       "       '74', '75', '76', '77', '78', '8', '79', '80', '81', '82', '83',\n",
       "       '84', '85', '86', '87', '88', '89', '9', '90', '91', '93', '94',\n",
       "       '95', '96', '97', '98', '99', '1', '10', '100', '101', '103',\n",
       "       '107', '108', '109', '110', '111', '113', '114', '118', '119',\n",
       "       '120', '122', '123', '124', '125', '126', '127', '129', '13',\n",
       "       '130', '131', '133', '134', '135', '136', '137', '138', '14',\n",
       "       '141', '143', '144', '145', '146', '147', '149', '150', '151',\n",
       "       '152', '154', '155', '156', '157', '158', '159', '16', '160',\n",
       "       '162', '164', '165', '167', '168', '169', '17', '173', '175',\n",
       "       '176', '177', '179', '180', '181', '182', '183', '185', '186',\n",
       "       '187', '188', '189', '191', '192', '193', '194', '195', '196',\n",
       "       '197', '198', '2', '20', '200', '202', '201', '203', '204', '205',\n",
       "       '206', '207', '208', '209', '210', '211', '212', '213', '214',\n",
       "       '215', '216', '217', '218', '22', '220', '221', '222', '223',\n",
       "       '224', '225', '228', '231', '232', '234', '235', '236', '237',\n",
       "       '238', '240', '241', '242', '243', '244', '245', '246', '247',\n",
       "       '248', '249', '250', '251', '252', '254', '255', '256', '257',\n",
       "       '258', '259', '26', '260', '261', '262', '263', '264', '265',\n",
       "       '266', '270', '271', '273', '277', '278', '279', '446', '199',\n",
       "       '253', '443', '445', '269', '268', '272', '276'], dtype=object)"
      ]
     },
     "execution_count": 57,
     "metadata": {},
     "output_type": "execute_result"
    }
   ],
   "source": [
    "ridership = ridership[~ridership['station_complex_id'].str.contains('TRAM')]\n",
    "ridership.station_complex_id.unique()"
   ]
  },
  {
   "cell_type": "code",
   "execution_count": 58,
   "id": "fcdd4dc6-4f6f-4eb7-a124-402e02e76013",
   "metadata": {
    "tags": []
   },
   "outputs": [
    {
     "data": {
      "text/plain": [
       "transit_timestamp       object\n",
       "transit_mode            object\n",
       "station_complex_id      object\n",
       "station_complex         object\n",
       "borough                 object\n",
       "payment_method          object\n",
       "fare_class_category     object\n",
       "ridership               object\n",
       "transfers               object\n",
       "latitude               float64\n",
       "longitude              float64\n",
       "georeference            object\n",
       "Date                    object\n",
       "Time                    object\n",
       "day_type                 int64\n",
       "dtype: object"
      ]
     },
     "execution_count": 58,
     "metadata": {},
     "output_type": "execute_result"
    }
   ],
   "source": [
    "ridership[['latitude','longitude']] = ridership[['latitude','longitude']].astype(float)\n",
    "ridership.dtypes"
   ]
  },
  {
   "cell_type": "markdown",
   "id": "12dc9569-ad5a-4923-8ff3-948f432b2bb9",
   "metadata": {},
   "source": [
    "These 3 cells above are pre-processing the dataset. We separate time_stampe into Date and Time. We remove any Station_Complex_ID that has 'TRAM' to remove the Roosevelt Island Tram. We convert coordinates into float and day_type into integer. We set the Day_type to 1 (weekday) and 2(weekend) as the rest of the datasets used only use day types."
   ]
  },
  {
   "cell_type": "code",
   "execution_count": 59,
   "id": "081797b8-6b24-4d51-bb08-4581d921ca80",
   "metadata": {
    "tags": []
   },
   "outputs": [
    {
     "name": "stdout",
     "output_type": "stream",
     "text": [
      "2100300 documents inserted into MongoDB successfully.\n"
     ]
    }
   ],
   "source": [
    "rider_json = ridership.to_json(orient='records')\n",
    "rider_json = json.loads(rider_json)\n",
    "collection = dbb.rider_json\n",
    "collection.insert_many(rider_json)\n",
    "\n",
    "print(f\"{len(rider_json)} documents inserted into MongoDB successfully.\")"
   ]
  },
  {
   "cell_type": "code",
   "execution_count": 60,
   "id": "4833da4a",
   "metadata": {},
   "outputs": [],
   "source": [
    "#client1.close()"
   ]
  },
  {
   "cell_type": "markdown",
   "id": "5673fe58-66c3-44f5-b220-c26d6636d71a",
   "metadata": {},
   "source": [
    "#### Q1: Which Stations need to be be fully express?"
   ]
  },
  {
   "cell_type": "markdown",
   "id": "36a5843a-39e2-4f05-8994-bb4d9d0b5437",
   "metadata": {},
   "source": [
    "*An Express Station contains local and express trains of the same color group* "
   ]
  },
  {
   "cell_type": "markdown",
   "id": "50e586b9-83dd-4f20-92ee-428708a89db1",
   "metadata": {},
   "source": [
    "These next several queries will show the process of finding express stations by line."
   ]
  },
  {
   "cell_type": "code",
   "execution_count": 61,
   "id": "e48f6123-60e8-446b-8d90-f959e5fe0611",
   "metadata": {
    "tags": []
   },
   "outputs": [
    {
     "name": "stdout",
     "output_type": "stream",
     "text": [
      "Number of Swipes by Day_Type\n",
      "{'ridership': 6847885, 'day_type': 1}\n",
      "{'ridership': 3653615, 'day_type': 2}\n",
      "Day_Type 1 is weekday, 2 is weekend\n"
     ]
    }
   ],
   "source": [
    "# Define the aggregation pipeline to calculate the number of swipes by day type\n",
    "p0 = [\n",
    "    # Match documents where the borough is not Staten Island (Subways Do not go there)\n",
    "    {\"$match\": {\"borough\": {\"$ne\": \"Staten\"}}},\n",
    "    # Group documents by day type and calculate the sum of swipes for each group\n",
    "    {\"$group\": {\"_id\": \"$day_type\", \"ridership\": {\"$sum\": 1}}},\n",
    "    # Project the _id field as day_type and include the ridership count, exclude the _id field\n",
    "    {\"$project\": {\"day_type\": \"$_id\", \"ridership\": 1, \"_id\": 0}},\n",
    "    # Sort the results by ridership count in descending order\n",
    "    {\"$sort\": {\"ridership\": -1}}\n",
    "]\n",
    "\n",
    "# Execute the aggregation pipeline\n",
    "r0 = collection.aggregate(p0)\n",
    "\n",
    "# Print the results\n",
    "print(\"Number of Swipes by Day_Type\")\n",
    "for result in r0:\n",
    "    print(result)\n",
    "print(\"Day_Type 1 is weekday, 2 is weekend\")"
   ]
  },
  {
   "cell_type": "code",
   "execution_count": 62,
   "id": "440604f9-229f-4316-8f80-a517e67b0bd5",
   "metadata": {
    "tags": []
   },
   "outputs": [
    {
     "name": "stdout",
     "output_type": "stream",
     "text": [
      "Number of Swipes by Borough\n",
      "{'ridership': 3764970, 'borough': 'Brooklyn'}\n",
      "{'ridership': 3196640, 'borough': 'Manhattan'}\n",
      "{'ridership': 1850215, 'borough': 'Queens'}\n",
      "{'ridership': 1647750, 'borough': 'Bronx'}\n",
      "{'ridership': 41925, 'borough': 'Staten Island'}\n"
     ]
    }
   ],
   "source": [
    "# Pipeline to calculate the number of swipes by borough\n",
    "p1 = [\n",
    "    # Group documents by borough and calculate the sum of swipes for each group\n",
    "    {\"$group\": {\"_id\": \"$borough\", \"ridership\": {\"$sum\": 1}}},\n",
    "    # Project the _id field as borough and include the ridership count\n",
    "    {\"$project\": {\"borough\": \"$_id\", \"ridership\": 1, \"_id\": 0}},\n",
    "    # Sort the ridership count in descending order\n",
    "    {\"$sort\": {\"ridership\": -1}}\n",
    "]\n",
    "\n",
    "r1 = collection.aggregate(p1)\n",
    "\n",
    "# Print the results\n",
    "print(\"Number of Swipes by Borough\")\n",
    "for result in r1:\n",
    "    print(result)"
   ]
  },
  {
   "cell_type": "code",
   "execution_count": 63,
   "id": "30086429-08a6-4217-889b-646fec43a9c9",
   "metadata": {
    "tags": []
   },
   "outputs": [
    {
     "name": "stdout",
     "output_type": "stream",
     "text": [
      "Number of Swipes by Card Type\n",
      "{'ridership': 1452020, 'fare_class_category': 'OMNY - Full Fare'}\n",
      "{'ridership': 1438940, 'fare_class_category': 'Metrocard - Full Fare'}\n",
      "{'ridership': 1412240, 'fare_class_category': 'Metrocard - Unlimited 7-Day'}\n",
      "{'ridership': 1364470, 'fare_class_category': 'Metrocard - Unlimited 30-Day'}\n",
      "{'ridership': 1325850, 'fare_class_category': 'Metrocard - Other'}\n",
      "{'ridership': 1255805, 'fare_class_category': 'Metrocard - Fair Fare'}\n",
      "{'ridership': 1154690, 'fare_class_category': 'Metrocard - Seniors & Disability'}\n",
      "{'ridership': 779390, 'fare_class_category': 'Metrocard - Students'}\n",
      "{'ridership': 292455, 'fare_class_category': 'OMNY - Seniors & Disability'}\n",
      "{'ridership': 25640, 'fare_class_category': 'OMNY - Other'}\n"
     ]
    }
   ],
   "source": [
    "#Calculate the number of swipes by card type\n",
    "p2 = [\n",
    "    # Group documents by fare class category and calculate the sum of swipes for each group\n",
    "    {\"$group\": {\"_id\": \"$fare_class_category\", \"ridership\": {\"$sum\": 1}}},\n",
    "    # Project the _id field as fare_class_category and include the ridership count\n",
    "    {\"$project\": {\"fare_class_category\": \"$_id\", \"ridership\": 1, \"_id\": 0}},\n",
    "    # Sort ridership count in descending order\n",
    "    {\"$sort\": {\"ridership\": -1}}\n",
    "]\n",
    "\n",
    "r2 = collection.aggregate(p2)\n",
    "\n",
    "# Print the results\n",
    "print(\"Number of Swipes by Card Type\")\n",
    "for result in r2:\n",
    "    print(result)"
   ]
  },
  {
   "cell_type": "code",
   "execution_count": 64,
   "id": "ab0eaecb-124d-42a3-9192-d40d135f89e7",
   "metadata": {
    "jupyter": {
     "outputs_hidden": true
    },
    "tags": []
   },
   "outputs": [
    {
     "name": "stdout",
     "output_type": "stream",
     "text": [
      "Number of Swipes by Station\n",
      "{'ridership': 31260, 'station_complex': 'Times Sq-42 St (N,Q,R,W,S,1,2,3,7)/42 St (A,C,E)'}\n",
      "{'ridership': 30945, 'station_complex': '74-Broadway (7)/Jackson Hts-Roosevelt Av (E,F,M,R)'}\n",
      "{'ridership': 30700, 'station_complex': 'Grand Central-42 St (S,4,5,6,7)'}\n",
      "{'ridership': 30630, 'station_complex': 'Atlantic Av-Barclays Ctr (B,D,N,Q,R,2,3,4,5)'}\n",
      "{'ridership': 30270, 'station_complex': '34 St-Herald Sq (B,D,F,M,N,Q,R,W)'}\n",
      "{'ridership': 30240, 'station_complex': '34 St-Penn Station (1,2,3)'}\n",
      "{'ridership': 30205, 'station_complex': '14 St-Union Sq (L,N,Q,R,W,4,5,6)'}\n",
      "{'ridership': 30090, 'station_complex': '14 St (F,M,1,2,3)/6 Av (L)'}\n",
      "{'ridership': 29845, 'station_complex': '34 St-Penn Station (A,C,E)'}\n",
      "{'ridership': 29695, 'station_complex': '59 St-Columbus Circle (A,B,C,D,1)'}\n",
      "{'ridership': 29475, 'station_complex': '96 St (1,2,3)'}\n",
      "{'ridership': 29455, 'station_complex': 'Fulton St (A,C,J,Z,2,3,4,5)'}\n",
      "{'ridership': 29325, 'station_complex': '14 St (A,C,E)/8 Av (L)'}\n",
      "{'ridership': 29320, 'station_complex': 'Lexington Av (N,R,W)/59 St (4,5,6)'}\n",
      "{'ridership': 29155, 'station_complex': 'W 4 St-Wash Sq (A,C,E,B,D,F,M)'}\n",
      "{'ridership': 28850, 'station_complex': '86 St (4,5,6)'}\n",
      "{'ridership': 28760, 'station_complex': '57 St-7 Av (N,Q,R,W)'}\n",
      "{'ridership': 28690, 'station_complex': 'Delancey St (F)/Essex St (J,M,Z)'}\n",
      "{'ridership': 28645, 'station_complex': 'Lexington Av-53 St (E,M)/51 St (6)'}\n",
      "{'ridership': 28640, 'station_complex': 'Bryant Pk (B,D,F,M)/5 Av (7)'}\n",
      "{'ridership': 28640, 'station_complex': '72 St (1,2,3)'}\n",
      "{'ridership': 28590, 'station_complex': '125 St (A,C,B,D)'}\n",
      "{'ridership': 28580, 'station_complex': 'Jay St-MetroTech (A,C,F,R)'}\n",
      "{'ridership': 28580, 'station_complex': 'Forest Hills-71 Av (E,F,M,R)'}\n",
      "{'ridership': 28530, 'station_complex': 'Canal St (J,N,Q,R,W,Z,6)'}\n",
      "{'ridership': 28375, 'station_complex': 'Kew Gardens-Union Tpke (E,F)'}\n",
      "{'ridership': 28335, 'station_complex': 'South Ferry (1)/Whitehall St (R,W)'}\n",
      "{'ridership': 28320, 'station_complex': 'Broadway-Lafayette St (B,D,F,M)/Bleecker St (6)'}\n",
      "{'ridership': 28305, 'station_complex': '47-50 Sts-Rockefeller Ctr (B,D,F,M)'}\n",
      "{'ridership': 28305, 'station_complex': 'Chambers St (A,C)/WTC (E)/Park Pl (2,3)/Cortlandt (R,W)'}\n",
      "{'ridership': 28270, 'station_complex': 'Crown Hts-Utica Av (3,4)'}\n",
      "{'ridership': 28265, 'station_complex': '168 St (A,C,1)'}\n",
      "{'ridership': 28235, 'station_complex': '125 St (4,5,6)'}\n",
      "{'ridership': 28185, 'station_complex': 'Bowling Green (4,5)'}\n",
      "{'ridership': 28125, 'station_complex': 'Sutphin Blvd-Archer Av-JFK Airport (E,J,Z)'}\n",
      "{'ridership': 28020, 'station_complex': 'Jamaica Center-Parsons/Archer (E,J,Z)'}\n",
      "{'ridership': 27985, 'station_complex': 'Lexington Av/63 St (F,Q)'}\n",
      "{'ridership': 27975, 'station_complex': 'Flushing-Main St (7)'}\n",
      "{'ridership': 27945, 'station_complex': '50 St (1)'}\n",
      "{'ridership': 27935, 'station_complex': '66 St-Lincoln Center (1)'}\n",
      "{'ridership': 27920, 'station_complex': '145 St (A,C,B,D)'}\n",
      "{'ridership': 27915, 'station_complex': 'DeKalb Av (B,Q,R)'}\n",
      "{'ridership': 27730, 'station_complex': '33 St (6)'}\n",
      "{'ridership': 27640, 'station_complex': 'Court St (R)/Borough Hall (2,3,4,5)'}\n",
      "{'ridership': 27635, 'station_complex': '161 St-Yankee Stadium (B,D,4)'}\n",
      "{'ridership': 27615, 'station_complex': '2 Av (F)'}\n",
      "{'ridership': 27605, 'station_complex': '96 St (Q)'}\n",
      "{'ridership': 27580, 'station_complex': '23 St (6)'}\n",
      "{'ridership': 27570, 'station_complex': '23 St (C,E)'}\n",
      "{'ridership': 27530, 'station_complex': 'Cathedral Pkwy (110 St) (1)'}\n",
      "{'ridership': 27520, 'station_complex': 'Brooklyn Bridge-City Hall (4,5,6)/Chambers St (J,Z)'}\n",
      "{'ridership': 27485, 'station_complex': '86 St (Q)'}\n",
      "{'ridership': 27480, 'station_complex': '50 St (C,E)'}\n",
      "{'ridership': 27460, 'station_complex': '72 St (Q)'}\n",
      "{'ridership': 27455, 'station_complex': '77 St (6)'}\n",
      "{'ridership': 27385, 'station_complex': 'Grand St (B,D)'}\n",
      "{'ridership': 27355, 'station_complex': 'Court Sq (E,G,M,7)'}\n",
      "{'ridership': 27335, 'station_complex': 'Flatbush Av-Brooklyn College (2,5)'}\n",
      "{'ridership': 27320, 'station_complex': 'Kings Hwy (B,Q)'}\n",
      "{'ridership': 27320, 'station_complex': '49 St (N,R,W)'}\n",
      "{'ridership': 27315, 'station_complex': '103 St (1)'}\n",
      "{'ridership': 27295, 'station_complex': 'Myrtle-Wyckoff Avs (L,M)'}\n",
      "{'ridership': 27270, 'station_complex': '82 St-Jackson Hts (7)'}\n",
      "{'ridership': 27260, 'station_complex': '157 St (1)'}\n",
      "{'ridership': 27240, 'station_complex': 'Parkchester (6)'}\n",
      "{'ridership': 27225, 'station_complex': 'Junction Blvd (7)'}\n",
      "{'ridership': 27210, 'station_complex': '23 St (1)'}\n",
      "{'ridership': 27185, 'station_complex': 'Coney Island-Stillwell Av (D,F,N,Q)'}\n",
      "{'ridership': 27185, 'station_complex': '61 St-Woodside (7)'}\n",
      "{'ridership': 27170, 'station_complex': '86 St (1)'}\n",
      "{'ridership': 27155, 'station_complex': 'East Broadway (F)'}\n",
      "{'ridership': 27150, 'station_complex': '28 St (6)'}\n",
      "{'ridership': 27120, 'station_complex': '125 St (2,3)'}\n",
      "{'ridership': 27090, 'station_complex': '8 St-NYU (R,W)'}\n",
      "{'ridership': 27085, 'station_complex': '23 St (F,M)'}\n",
      "{'ridership': 27070, 'station_complex': '96 St (6)'}\n",
      "{'ridership': 27035, 'station_complex': 'Jamaica-179 St (F)'}\n",
      "{'ridership': 26960, 'station_complex': 'Fordham Rd (4)'}\n",
      "{'ridership': 26935, 'station_complex': 'Lorimer St (L)/Metropolitan Av (G)'}\n",
      "{'ridership': 26895, 'station_complex': 'Queensboro Plaza (7,N,W)'}\n",
      "{'ridership': 26880, 'station_complex': 'Utica Av (A,C)'}\n",
      "{'ridership': 26875, 'station_complex': '116 St (6)'}\n",
      "{'ridership': 26865, 'station_complex': 'Astor Pl (6)'}\n",
      "{'ridership': 26850, 'station_complex': '4 Av (F,G)/9 St (R)'}\n",
      "{'ridership': 26810, 'station_complex': '46 St-Bliss St (7)'}\n",
      "{'ridership': 26805, 'station_complex': 'Franklin Av (2,3,4,5)/Botanic Garden (S)'}\n",
      "{'ridership': 26795, 'station_complex': '181 St (1)'}\n",
      "{'ridership': 26770, 'station_complex': '90 St-Elmhurst Av (7)'}\n",
      "{'ridership': 26740, 'station_complex': 'Sheepshead Bay (B,Q)'}\n",
      "{'ridership': 26740, 'station_complex': '36 St (D,N,R)'}\n",
      "{'ridership': 26730, 'station_complex': 'St George (SIR)'}\n",
      "{'ridership': 26715, 'station_complex': '125 St (1)'}\n",
      "{'ridership': 26710, 'station_complex': 'Nostrand Av (A,C)'}\n",
      "{'ridership': 26700, 'station_complex': '135 St (2,3)'}\n",
      "{'ridership': 26685, 'station_complex': '103 St-Corona Plaza (7)'}\n",
      "{'ridership': 26615, 'station_complex': '57 St (F)'}\n",
      "{'ridership': 26615, 'station_complex': 'Marcy Av (M,J,Z)'}\n",
      "{'ridership': 26600, 'station_complex': 'Hunts Point Av (6)'}\n",
      "{'ridership': 26600, 'station_complex': '3 Av-138 St (6)'}\n",
      "{'ridership': 26600, 'station_complex': '63 Dr-Rego Park (M,R)'}\n",
      "{'ridership': 26595, 'station_complex': 'Prospect Park (B,Q,S)'}\n",
      "{'ridership': 26590, 'station_complex': '116 St (2,3)'}\n",
      "{'ridership': 26550, 'station_complex': '137 St-City College (1)'}\n",
      "{'ridership': 26550, 'station_complex': '7 Av (E,B,D)'}\n",
      "{'ridership': 26545, 'station_complex': 'Church Av (B,Q)'}\n",
      "{'ridership': 26545, 'station_complex': 'Broadway Junction (A,C,J,L,Z)'}\n",
      "{'ridership': 26515, 'station_complex': '149 St-Grand Concourse (2,4,5)'}\n",
      "{'ridership': 26515, 'station_complex': 'Church Av (F,G)'}\n",
      "{'ridership': 26510, 'station_complex': 'Woodhaven Blvd (M,R)'}\n",
      "{'ridership': 26490, 'station_complex': 'Euclid Av (A,C)'}\n",
      "{'ridership': 26455, 'station_complex': '23 St (R,W)'}\n",
      "{'ridership': 26445, 'station_complex': 'Grand Av-Newtown (M,R)'}\n",
      "{'ridership': 26445, 'station_complex': '79 St (1)'}\n",
      "{'ridership': 26445, 'station_complex': '103 St (6)'}\n",
      "{'ridership': 26440, 'station_complex': 'Astoria-Ditmars Blvd (N,W)'}\n",
      "{'ridership': 26405, 'station_complex': 'Broadway (N,W)'}\n",
      "{'ridership': 26380, 'station_complex': '231 St (1)'}\n",
      "{'ridership': 26375, 'station_complex': '110 St (6)'}\n",
      "{'ridership': 26365, 'station_complex': 'Canal St (A,C,E)'}\n",
      "{'ridership': 26360, 'station_complex': '86 St (R)'}\n",
      "{'ridership': 26355, 'station_complex': '1 Av (L)'}\n",
      "{'ridership': 26350, 'station_complex': '145 St (1)'}\n",
      "{'ridership': 26330, 'station_complex': 'Burnside Av (4)'}\n",
      "{'ridership': 26330, 'station_complex': 'Pelham Pkwy (2,5)'}\n",
      "{'ridership': 26245, 'station_complex': '59 St (N,R)'}\n",
      "{'ridership': 26240, 'station_complex': 'Myrtle Av (M,J,Z)'}\n",
      "{'ridership': 26225, 'station_complex': '30 Av (N,W)'}\n",
      "{'ridership': 26215, 'station_complex': 'Chambers St (1,2,3)'}\n",
      "{'ridership': 26205, 'station_complex': 'Pelham Bay Park (6)'}\n",
      "{'ridership': 26200, 'station_complex': 'E 180 St (2,5)'}\n",
      "{'ridership': 26190, 'station_complex': '207 St (1)'}\n",
      "{'ridership': 26185, 'station_complex': '21 St-Queensbridge (F)'}\n",
      "{'ridership': 26165, 'station_complex': '191 St (1)'}\n",
      "{'ridership': 26145, 'station_complex': 'New Lots Av (3)'}\n",
      "{'ridership': 26115, 'station_complex': 'Kingsbridge Rd (4)'}\n",
      "{'ridership': 26110, 'station_complex': '68 St-Hunter College (6)'}\n",
      "{'ridership': 26085, 'station_complex': '28 St (1)'}\n",
      "{'ridership': 26080, 'station_complex': 'Christopher St-Sheridan Sq (1)'}\n",
      "{'ridership': 26080, 'station_complex': '116 St-Columbia University (1)'}\n",
      "{'ridership': 26060, 'station_complex': 'Gun Hill Rd (2,5)'}\n",
      "{'ridership': 26060, 'station_complex': 'Mosholu Pkwy (4)'}\n",
      "{'ridership': 26050, 'station_complex': 'Houston St (1)'}\n",
      "{'ridership': 26015, 'station_complex': 'Parsons Blvd (F)'}\n",
      "{'ridership': 25995, 'station_complex': 'Central Park North (110 St) (2,3)'}\n",
      "{'ridership': 25990, 'station_complex': '167 St (4)'}\n",
      "{'ridership': 25975, 'station_complex': 'Dyckman St (1)'}\n",
      "{'ridership': 25970, 'station_complex': 'Newkirk Plaza (B,Q)'}\n",
      "{'ridership': 25965, 'station_complex': 'Sutter Av-Rutland Rd (3)'}\n",
      "{'ridership': 25945, 'station_complex': 'Rockaway Blvd (A)'}\n",
      "{'ridership': 25930, 'station_complex': 'Woodlawn (4)'}\n",
      "{'ridership': 25905, 'station_complex': 'Nevins St (2,3,4,5)'}\n",
      "{'ridership': 25885, 'station_complex': '111 St (7)'}\n",
      "{'ridership': 25835, 'station_complex': '170 St (4)'}\n",
      "{'ridership': 25780, 'station_complex': '40 St-Lowery St (7)'}\n",
      "{'ridership': 25760, 'station_complex': 'Bedford Park Blvd-Lehman College (4)'}\n",
      "{'ridership': 25745, 'station_complex': 'Brighton Beach (B,Q)'}\n",
      "{'ridership': 25700, 'station_complex': 'Flushing Av (M,J)'}\n",
      "{'ridership': 25680, 'station_complex': 'Bedford Av (L)'}\n",
      "{'ridership': 25680, 'station_complex': '7 Av (F,G)'}\n",
      "{'ridership': 25655, 'station_complex': 'Bergen St (F,G)'}\n",
      "{'ridership': 25650, 'station_complex': '3 Av-149 St (2,5)'}\n",
      "{'ridership': 25645, 'station_complex': 'Hoyt-Schermerhorn Sts (A,C,G)'}\n",
      "{'ridership': 25630, 'station_complex': 'Simpson St (2,5)'}\n",
      "{'ridership': 25625, 'station_complex': 'Astoria Blvd (N,W)'}\n",
      "{'ridership': 25610, 'station_complex': 'Steinway St (M,R)'}\n",
      "{'ridership': 25570, 'station_complex': 'Spring St (6)'}\n",
      "{'ridership': 25555, 'station_complex': 'Church Av (2,5)'}\n",
      "{'ridership': 25520, 'station_complex': 'West Farms Sq-E Tremont Av (2,5)'}\n",
      "{'ridership': 25495, 'station_complex': 'Far Rockaway-Mott Av (A)'}\n",
      "{'ridership': 25460, 'station_complex': 'Wall St (2,3)'}\n",
      "{'ridership': 25380, 'station_complex': 'Ozone Park-Lefferts Blvd (A)'}\n",
      "{'ridership': 25365, 'station_complex': 'Avenue U (Q)'}\n",
      "{'ridership': 25345, 'station_complex': '176 St (4)'}\n",
      "{'ridership': 25305, 'station_complex': '53 St (R)'}\n",
      "{'ridership': 25300, 'station_complex': 'Morrison Av-Soundview (6)'}\n",
      "{'ridership': 25290, 'station_complex': '116 St (C,B)'}\n",
      "{'ridership': 25285, 'station_complex': '183 St (4)'}\n",
      "{'ridership': 25285, 'station_complex': 'Carroll St (F,G)'}\n",
      "{'ridership': 25285, 'station_complex': 'Van Cortlandt Park-242 St (1)'}\n",
      "{'ridership': 25280, 'station_complex': 'Wall St (4,5)'}\n",
      "{'ridership': 25280, 'station_complex': '8 Av (N)'}\n",
      "{'ridership': 25265, 'station_complex': 'WTC Cortlandt (1)'}\n",
      "{'ridership': 25260, 'station_complex': 'Elder Av (6)'}\n",
      "{'ridership': 25255, 'station_complex': '174 St (2,5)'}\n",
      "{'ridership': 25245, 'station_complex': '18 St (1)'}\n",
      "{'ridership': 25245, 'station_complex': 'Greenpoint Av (G)'}\n",
      "{'ridership': 25245, 'station_complex': 'Castle Hill Av (6)'}\n",
      "{'ridership': 25205, 'station_complex': '28 St (R,W)'}\n",
      "{'ridership': 25205, 'station_complex': 'Queens Plaza (E,M,R)'}\n",
      "{'ridership': 25150, 'station_complex': 'Cortelyou Rd (Q)'}\n",
      "{'ridership': 25140, 'station_complex': 'New Lots Av (L)'}\n",
      "{'ridership': 25125, 'station_complex': 'York St (F)'}\n",
      "{'ridership': 25125, 'station_complex': 'Cathedral Pkwy (110 St) (C,B)'}\n",
      "{'ridership': 25100, 'station_complex': 'Nassau Av (G)'}\n",
      "{'ridership': 25095, 'station_complex': 'Prince St (R,W)'}\n",
      "{'ridership': 25085, 'station_complex': 'Elmhurst Av (M,R)'}\n",
      "{'ridership': 25070, 'station_complex': 'Newkirk Av-Little Haiti (2,5)'}\n",
      "{'ridership': 25070, 'station_complex': 'Wakefield-241 St (2)'}\n",
      "{'ridership': 25065, 'station_complex': '233 St (2,5)'}\n",
      "{'ridership': 25055, 'station_complex': '5 Av/59 St (N,R,W)'}\n",
      "{'ridership': 25050, 'station_complex': '7 Av (B,Q)'}\n",
      "{'ridership': 25050, 'station_complex': 'Roosevelt Island (F)'}\n",
      "{'ridership': 25045, 'station_complex': 'Grant Av (A)'}\n",
      "{'ridership': 25035, 'station_complex': 'Halsey St (L)'}\n",
      "{'ridership': 25035, 'station_complex': '169 St (F)'}\n",
      "{'ridership': 25030, 'station_complex': 'Grand Army Plaza (2,3)'}\n",
      "{'ridership': 25020, 'station_complex': 'Parkside Av (Q)'}\n",
      "{'ridership': 24975, 'station_complex': 'Kingston-Throop Avs (C)'}\n",
      "{'ridership': 24950, 'station_complex': 'Jamaica-Van Wyck (E)'}\n",
      "{'ridership': 24945, 'station_complex': 'Bay Ridge Av (R)'}\n",
      "{'ridership': 24940, 'station_complex': 'E 149 St (6)'}\n",
      "{'ridership': 24910, 'station_complex': 'Marble Hill-225 St (1)'}\n",
      "{'ridership': 24910, 'station_complex': '67 Av (M,R)'}\n",
      "{'ridership': 24900, 'station_complex': 'Fulton St (G)'}\n",
      "{'ridership': 24900, 'station_complex': 'Kingston Av (3)'}\n",
      "{'ridership': 24890, 'station_complex': 'Avenue J (Q)'}\n",
      "{'ridership': 24890, 'station_complex': '33 St-Rawson St (7)'}\n",
      "{'ridership': 24875, 'station_complex': 'Bedford-Nostrand Avs (G)'}\n",
      "{'ridership': 24870, 'station_complex': 'Mt Eden Av (4)'}\n",
      "{'ridership': 24870, 'station_complex': 'Lafayette Av (C)'}\n",
      "{'ridership': 24860, 'station_complex': 'Rockaway Av (3)'}\n",
      "{'ridership': 24855, 'station_complex': '81 St-Museum of Natural History (C,B)'}\n",
      "{'ridership': 24845, 'station_complex': '86 St (C,B)'}\n",
      "{'ridership': 24835, 'station_complex': 'Westchester Sq-E Tremont Av (6)'}\n",
      "{'ridership': 24835, 'station_complex': '52 St (7)'}\n",
      "{'ridership': 24775, 'station_complex': 'Inwood-207 St (A)'}\n",
      "{'ridership': 24775, 'station_complex': '175 St (A)'}\n",
      "{'ridership': 24775, 'station_complex': 'Fort Hamilton Pkwy (N)'}\n",
      "{'ridership': 24770, 'station_complex': 'Pennsylvania Av (3)'}\n",
      "{'ridership': 24750, 'station_complex': '69 St (7)'}\n",
      "{'ridership': 24715, 'station_complex': 'Ralph Av (C)'}\n",
      "{'ridership': 24710, 'station_complex': '138 St-Grand Concourse (4,5)'}\n",
      "{'ridership': 24680, 'station_complex': 'Brook Av (6)'}\n",
      "{'ridership': 24680, 'station_complex': 'Franklin Av (C,S)'}\n",
      "{'ridership': 24660, 'station_complex': 'Bay Pkwy (D)'}\n",
      "{'ridership': 24650, 'station_complex': 'Broadway (G)'}\n",
      "{'ridership': 24645, 'station_complex': 'Bay Pkwy (N)'}\n",
      "{'ridership': 24640, 'station_complex': 'Bay Ridge-95 St (R)'}\n",
      "{'ridership': 24640, 'station_complex': 'Saratoga Av (3)'}\n",
      "{'ridership': 24630, 'station_complex': 'Prospect Av (2,5)'}\n",
      "{'ridership': 24620, 'station_complex': '36 Av (N,W)'}\n",
      "{'ridership': 24580, 'station_complex': 'Union St (R)'}\n",
      "{'ridership': 24565, 'station_complex': '34 St-Hudson Yards (7)'}\n",
      "{'ridership': 24560, 'station_complex': '45 St (R)'}\n",
      "{'ridership': 24560, 'station_complex': 'Canarsie-Rockaway Pkwy (L)'}\n",
      "{'ridership': 24550, 'station_complex': 'Rockaway Av (C)'}\n",
      "{'ridership': 24530, 'station_complex': 'Avenue M (Q)'}\n",
      "{'ridership': 24505, 'station_complex': 'Gates Av (J,Z)'}\n",
      "{'ridership': 24485, 'station_complex': 'New Utrecht Av (N)/62 St (D)'}\n",
      "{'ridership': 24480, 'station_complex': 'Hoyt St (2,3)'}\n",
      "{'ridership': 24470, 'station_complex': 'Briarwood (E,F)'}\n",
      "{'ridership': 24455, 'station_complex': 'Nostrand Av (3)'}\n",
      "{'ridership': 24450, 'station_complex': '96 St (C,B)'}\n",
      "{'ridership': 24440, 'station_complex': 'Kings Hwy (N)'}\n",
      "{'ridership': 24430, 'station_complex': 'Winthrop St (2,5)'}\n",
      "{'ridership': 24410, 'station_complex': 'Classon Av (G)'}\n",
      "{'ridership': 24400, 'station_complex': '238 St (1)'}\n",
      "{'ridership': 24400, 'station_complex': 'Prospect Av (R)'}\n",
      "{'ridership': 24365, 'station_complex': 'Crescent St (J,Z)'}\n",
      "{'ridership': 24285, 'station_complex': 'Allerton Av (2,5)'}\n",
      "{'ridership': 24280, 'station_complex': 'Lorimer St (M,J)'}\n",
      "{'ridership': 24225, 'station_complex': 'Halsey St (J)'}\n",
      "{'ridership': 24225, 'station_complex': 'Livonia Av (L)'}\n",
      "{'ridership': 24225, 'station_complex': '181 St (A)'}\n",
      "{'ridership': 24200, 'station_complex': 'Gun Hill Rd (5)'}\n",
      "{'ridership': 24160, 'station_complex': '46 St (M,R)'}\n",
      "{'ridership': 24115, 'station_complex': 'Northern Blvd (M,R)'}\n",
      "{'ridership': 24105, 'station_complex': 'Sterling St (2,5)'}\n",
      "{'ridership': 24105, 'station_complex': 'Freeman St (2,5)'}\n",
      "{'ridership': 24080, 'station_complex': 'Smith-9 Sts (F,G)'}\n",
      "{'ridership': 24065, 'station_complex': '163 St-Amsterdam Av (C)'}\n",
      "{'ridership': 24055, 'station_complex': '9 Av (D)'}\n",
      "{'ridership': 24055, 'station_complex': 'Sutphin Blvd (F)'}\n",
      "{'ridership': 24025, 'station_complex': '18 Av (N)'}\n",
      "{'ridership': 24005, 'station_complex': 'Kosciuszko St (J)'}\n",
      "{'ridership': 23995, 'station_complex': 'Rector St (1)'}\n",
      "{'ridership': 23960, 'station_complex': 'Jackson Av (2,5)'}\n",
      "{'ridership': 23950, 'station_complex': '103 St (C,B)'}\n",
      "{'ridership': 23945, 'station_complex': 'Bergen St (2,3)'}\n",
      "{'ridership': 23930, 'station_complex': 'Fresh Pond Rd (M)'}\n",
      "{'ridership': 23925, 'station_complex': 'Vernon Blvd-Jackson Av (7)'}\n",
      "{'ridership': 23915, 'station_complex': 'Howard Beach-JFK Airport (A)'}\n",
      "{'ridership': 23900, 'station_complex': 'Jefferson St (L)'}\n",
      "{'ridership': 23900, 'station_complex': 'DeKalb Av (L)'}\n",
      "{'ridership': 23885, 'station_complex': '18 Av (D)'}\n",
      "{'ridership': 23875, 'station_complex': '80 St (A)'}\n",
      "{'ridership': 23860, 'station_complex': '15 St-Prospect Park (F,G)'}\n",
      "{'ridership': 23850, 'station_complex': 'Beverley Rd (Q)'}\n",
      "{'ridership': 23825, 'station_complex': 'Beverly Rd (2,5)'}\n",
      "{'ridership': 23820, 'station_complex': 'Myrtle-Willoughby Avs (G)'}\n",
      "{'ridership': 23815, 'station_complex': '77 St (R)'}\n",
      "{'ridership': 23810, 'station_complex': 'Longwood Av (6)'}\n",
      "{'ridership': 23765, 'station_complex': 'Spring St (C,E)'}\n",
      "{'ridership': 23745, 'station_complex': 'Sutter Av (L)'}\n",
      "{'ridership': 23725, 'station_complex': '135 St (C,B)'}\n",
      "{'ridership': 23695, 'station_complex': '155 St (B,D)'}\n",
      "{'ridership': 23675, 'station_complex': 'High St (A,C)'}\n",
      "{'ridership': 23670, 'station_complex': 'Neck Rd (Q)'}\n",
      "{'ridership': 23665, 'station_complex': 'St Lawrence Av (6)'}\n",
      "{'ridership': 23660, 'station_complex': 'Fort Hamilton Pkwy (D)'}\n",
      "{'ridership': 23645, 'station_complex': 'East 105 St (L)'}\n",
      "{'ridership': 23625, 'station_complex': 'Clinton-Washington Avs (C)'}\n",
      "{'ridership': 23615, 'station_complex': 'Grand St (L)'}\n",
      "{'ridership': 23605, 'station_complex': 'Shepherd Av (C)'}\n",
      "{'ridership': 23595, 'station_complex': 'Dyckman St (A)'}\n",
      "{'ridership': 23555, 'station_complex': '225 St (2,5)'}\n",
      "{'ridership': 23555, 'station_complex': '72 St (C,B)'}\n",
      "{'ridership': 23545, 'station_complex': 'Junius St (3)'}\n",
      "{'ridership': 23535, 'station_complex': 'Clark St (2,3)'}\n",
      "{'ridership': 23535, 'station_complex': 'Canal St (1)'}\n",
      "{'ridership': 23525, 'station_complex': 'Montrose Av (L)'}\n",
      "{'ridership': 23485, 'station_complex': '20 Av (D)'}\n",
      "{'ridership': 23485, 'station_complex': 'Avenue U (N)'}\n",
      "{'ridership': 23465, 'station_complex': 'Fort Hamilton Pkwy (F,G)'}\n",
      "{'ridership': 23425, 'station_complex': 'Fordham Rd (B,D)'}\n",
      "{'ridership': 23410, 'station_complex': '25 Av (D)'}\n",
      "{'ridership': 23405, 'station_complex': 'Eastern Pkwy-Brooklyn Museum (2,3)'}\n",
      "{'ridership': 23395, 'station_complex': 'Wilson Av (L)'}\n",
      "{'ridership': 23355, 'station_complex': 'Nereid Av (2,5)'}\n",
      "{'ridership': 23310, 'station_complex': 'Flushing Av (G)'}\n",
      "{'ridership': 23310, 'station_complex': '5 Av/53 St (E,M)'}\n",
      "{'ridership': 23280, 'station_complex': 'Middle Village-Metropolitan Av (M)'}\n",
      "{'ridership': 23275, 'station_complex': 'Chauncey St (J,Z)'}\n",
      "{'ridership': 23255, 'station_complex': 'Clinton-Washington Avs (G)'}\n",
      "{'ridership': 23240, 'station_complex': '25 St (R)'}\n",
      "{'ridership': 23230, 'station_complex': 'Burke Av (2,5)'}\n",
      "{'ridership': 23220, 'station_complex': 'Ocean Pkwy (Q)'}\n",
      "{'ridership': 23215, 'station_complex': 'Graham Av (L)'}\n",
      "{'ridership': 23190, 'station_complex': 'Van Siclen Av (C)'}\n",
      "{'ridership': 23175, 'station_complex': 'Alabama Av (J)'}\n",
      "{'ridership': 23165, 'station_complex': '79 St (D)'}\n",
      "{'ridership': 23155, 'station_complex': 'Liberty Av (C)'}\n",
      "{'ridership': 23140, 'station_complex': 'Eastchester-Dyre Av (5)'}\n",
      "{'ridership': 23110, 'station_complex': '50 St (D)'}\n",
      "{'ridership': 23080, 'station_complex': 'Intervale Av (2,5)'}\n",
      "{'ridership': 23075, 'station_complex': '219 St (2,5)'}\n",
      "{'ridership': 23050, 'station_complex': 'Avenue H (Q)'}\n",
      "{'ridership': 23030, 'station_complex': 'Buhre Av (6)'}\n",
      "{'ridership': 22985, 'station_complex': '3 Av (L)'}\n",
      "{'ridership': 22945, 'station_complex': 'Mets-Willets Point (7)'}\n",
      "{'ridership': 22925, 'station_complex': 'Bedford Park Blvd (B,D)'}\n",
      "{'ridership': 22895, 'station_complex': 'Harlem-148 St (3)'}\n",
      "{'ridership': 22835, 'station_complex': '71 St (D)'}\n",
      "{'ridership': 22825, 'station_complex': 'Van Siclen Av (3)'}\n",
      "{'ridership': 22785, 'station_complex': 'Tremont Av (B,D)'}\n",
      "{'ridership': 22755, 'station_complex': '39 Av-Dutch Kills (N,W)'}\n",
      "{'ridership': 22735, 'station_complex': 'Morgan Av (L)'}\n",
      "{'ridership': 22680, 'station_complex': 'Beach 60 St (A)'}\n",
      "{'ridership': 22655, 'station_complex': '155 St (C)'}\n",
      "{'ridership': 22625, 'station_complex': '75 Av (E,F)'}\n",
      "{'ridership': 22620, 'station_complex': 'Franklin St (1)'}\n",
      "{'ridership': 22615, 'station_complex': 'Forest Av (M)'}\n",
      "{'ridership': 22615, 'station_complex': '215 St (1)'}\n",
      "{'ridership': 22605, 'station_complex': 'Norwood-205 St (D)'}\n",
      "{'ridership': 22545, 'station_complex': '167 St (B,D)'}\n",
      "{'ridership': 22535, 'station_complex': '86 St (N)'}\n",
      "{'ridership': 22530, 'station_complex': 'President St-Medgar Evers College (2,5)'}\n",
      "{'ridership': 22500, 'station_complex': 'Knickerbocker Av (M)'}\n",
      "{'ridership': 22495, 'station_complex': 'Central Av (M)'}\n",
      "{'ridership': 22480, 'station_complex': 'Kingsbridge Rd (B,D)'}\n",
      "{'ridership': 22470, 'station_complex': 'Beach 67 St (A)'}\n",
      "{'ridership': 22420, 'station_complex': '20 Av (N)'}\n",
      "{'ridership': 22405, 'station_complex': 'Hewes St (M,J)'}\n",
      "{'ridership': 22370, 'station_complex': 'Broad St (J,Z)'}\n",
      "{'ridership': 22345, 'station_complex': 'Norwood Av (J,Z)'}\n",
      "{'ridership': 22235, 'station_complex': '88 St (A)'}\n",
      "{'ridership': 22085, 'station_complex': 'Bowery (J,Z)'}\n",
      "{'ridership': 22075, 'station_complex': 'Cypress Av (6)'}\n",
      "{'ridership': 22005, 'station_complex': 'Van Siclen Av (J,Z)'}\n",
      "{'ridership': 21960, 'station_complex': 'Baychester Av (5)'}\n",
      "{'ridership': 21935, 'station_complex': 'Whitlock Av (6)'}\n",
      "{'ridership': 21925, 'station_complex': '36 St (M,R)'}\n",
      "{'ridership': 21895, 'station_complex': 'Bronx Park East (2,5)'}\n",
      "{'ridership': 21875, 'station_complex': 'Cleveland St (J)'}\n",
      "{'ridership': 21775, 'station_complex': 'Bay 50 St (D)'}\n",
      "{'ridership': 21775, 'station_complex': '65 St (M,R)'}\n",
      "{'ridership': 21625, 'station_complex': 'Seneca Av (M)'}\n",
      "{'ridership': 21595, 'station_complex': '190 St (A)'}\n",
      "{'ridership': 21540, 'station_complex': 'Beach 25 St (A)'}\n",
      "{'ridership': 21540, 'station_complex': '182-183 Sts (B,D)'}\n",
      "{'ridership': 21500, 'station_complex': '170 St (B,D)'}\n",
      "{'ridership': 21405, 'station_complex': 'W 8 St-NY Aquarium (F,Q)'}\n",
      "{'ridership': 21385, 'station_complex': 'Middletown Rd (6)'}\n",
      "{'ridership': 21375, 'station_complex': '55 St (D)'}\n",
      "{'ridership': 21350, 'station_complex': 'Zerega Av (6)'}\n",
      "{'ridership': 21345, 'station_complex': 'Bushwick Av-Aberdeen St (L)'}\n",
      "{'ridership': 21300, 'station_complex': 'Atlantic Av (L)'}\n",
      "{'ridership': 21270, 'station_complex': '174-175 Sts (B,D)'}\n",
      "{'ridership': 21225, 'station_complex': '111 St (A)'}\n",
      "{'ridership': 21005, 'station_complex': 'Rector St (R,W)'}\n",
      "{'ridership': 20835, 'station_complex': 'Ditmas Av (F)'}\n",
      "{'ridership': 20745, 'station_complex': '21 St (G)'}\n",
      "{'ridership': 20710, 'station_complex': 'Pelham Pkwy (5)'}\n",
      "{'ridership': 20655, 'station_complex': '104 St (A)'}\n",
      "{'ridership': 20565, 'station_complex': 'Kings Hwy (F)'}\n",
      "{'ridership': 20525, 'station_complex': 'Hunters Point Av (7)'}\n",
      "{'ridership': 20205, 'station_complex': 'City Hall (R,W)'}\n",
      "{'ridership': 20130, 'station_complex': '18 Av (F)'}\n",
      "{'ridership': 19915, 'station_complex': '145 St (3)'}\n",
      "{'ridership': 19695, 'station_complex': '85 St-Forest Pkwy (J)'}\n",
      "{'ridership': 19655, 'station_complex': 'Aqueduct Racetrack (A)'}\n",
      "{'ridership': 19650, 'station_complex': 'Park Pl (S)'}\n",
      "{'ridership': 19475, 'station_complex': 'Avenue N (F)'}\n",
      "{'ridership': 19435, 'station_complex': '121 St (J,Z)'}\n",
      "{'ridership': 19350, 'station_complex': 'Avenue I (F)'}\n",
      "{'ridership': 19270, 'station_complex': 'Morris Park (5)'}\n",
      "{'ridership': 19250, 'station_complex': 'Avenue P (F)'}\n",
      "{'ridership': 19145, 'station_complex': 'Woodhaven Blvd (J,Z)'}\n",
      "{'ridership': 19080, 'station_complex': 'Beach 36 St (A)'}\n",
      "{'ridership': 18840, 'station_complex': '104 St (J,Z)'}\n",
      "{'ridership': 18265, 'station_complex': '111 St (J)'}\n",
      "{'ridership': 17885, 'station_complex': \"E 143 St-St Mary's St (6)\"}\n",
      "{'ridership': 17820, 'station_complex': 'Avenue X (F)'}\n",
      "{'ridership': 17655, 'station_complex': '75 St-Elderts Ln (J,Z)'}\n",
      "{'ridership': 17610, 'station_complex': 'Beach 44 St (A)'}\n",
      "{'ridership': 17500, 'station_complex': 'Rockaway Park-Beach 116 St (A,S)'}\n",
      "{'ridership': 17075, 'station_complex': 'Bay Pkwy (F)'}\n",
      "{'ridership': 16985, 'station_complex': 'Cypress Hills (J)'}\n",
      "{'ridership': 16570, 'station_complex': 'Avenue U (F)'}\n",
      "{'ridership': 16285, 'station_complex': 'Beach 90 St (A,S)'}\n",
      "{'ridership': 16265, 'station_complex': 'Aqueduct-N Conduit Av (A)'}\n",
      "{'ridership': 15935, 'station_complex': 'Neptune Av (F)'}\n",
      "{'ridership': 15195, 'station_complex': 'Tompkinsville (SIR)'}\n",
      "{'ridership': 13375, 'station_complex': 'Beach 98 St (A,S)'}\n",
      "{'ridership': 9455, 'station_complex': 'Broad Channel (A,S)'}\n",
      "{'ridership': 8780, 'station_complex': 'Beach 105 St (A,S)'}\n"
     ]
    }
   ],
   "source": [
    "# Calculate the number of swipes by station complex\n",
    "p3 = [\n",
    "    # Group documents by station complex and calculate the sum of swipes for each group\n",
    "    {\"$group\": {\"_id\": \"$station_complex\", \"ridership\": {\"$sum\": 1}}},\n",
    "    # Project the _id field as station_complex and include the ridership count\n",
    "    {\"$project\": {\"station_complex\": \"$_id\", \"ridership\": 1, \"_id\": 0}},\n",
    "    # Sort ridership count in descending order\n",
    "    {\"$sort\": {\"ridership\": -1}}\n",
    "]\n",
    "\n",
    "r3 = collection.aggregate(p3)\n",
    "\n",
    "# Print the results\n",
    "print(\"Number of Swipes by Station\")\n",
    "for result in r3:\n",
    "    print(result)"
   ]
  },
  {
   "cell_type": "code",
   "execution_count": 65,
   "id": "3a8269ed-b2cb-4fb1-9405-7c0be0f5c3f5",
   "metadata": {
    "tags": []
   },
   "outputs": [
    {
     "name": "stdout",
     "output_type": "stream",
     "text": [
      "96th:\n",
      "{'station_complex_id': '310', 'station_complex': '96 St (1,2,3)', 'latitude': 40.7939186096, 'longitude': -73.9723205566}\n",
      "World Trade Center:\n",
      "{'station_complex_id': '328', 'station_complex': 'WTC Cortlandt (1)', 'latitude': 40.7118339539, 'longitude': -74.0121917725}\n"
     ]
    }
   ],
   "source": [
    "# Finding Coordinates which 1 shares 2&3 (World Trade Center - 96th)\n",
    "# We search for stations that are 96th (1,2,3) and WTC Cortlandt\n",
    "t1 = {\"station_complex\": {\"$regex\": \"96 St \\(1,2,3\\)\", \"$options\": \"i\"}}\n",
    "a1 = {\"station_complex\": 1, \"station_complex_id\": 1,\"latitude\": 1,\"longitude\": 1, \"_id\": 0}\n",
    "result_96 = collection.find_one(t1, a1)\n",
    "\n",
    "# Query for WTC Cortlandt\n",
    "t2 = {\"station_complex\": {\"$regex\": \"WTC Cortlandt\", \"$options\": \"i\"}}\n",
    "result_wtc = collection.find_one(t2, a1)\n",
    "\n",
    "# Print results which include coordinates and station id\n",
    "print(\"96th:\")\n",
    "print(result_96)\n",
    "\n",
    "print(\"World Trade Center:\")\n",
    "print(result_wtc)"
   ]
  },
  {
   "cell_type": "code",
   "execution_count": 66,
   "id": "bc1c8d60-b8b5-423c-b110-f4a5dc895804",
   "metadata": {
    "tags": []
   },
   "outputs": [
    {
     "name": "stdout",
     "output_type": "stream",
     "text": [
      "Stations With the most swipes between WTC and 96th (1,2,3)\n",
      "{'ridership': 31260, 'station_complex': 'Times Sq-42 St (N,Q,R,W,S,1,2,3,7)/42 St (A,C,E)', 'station_complex_id': '611'}\n",
      "{'ridership': 30240, 'station_complex': '34 St-Penn Station (1,2,3)', 'station_complex_id': '318'}\n",
      "{'ridership': 30090, 'station_complex': '14 St (F,M,1,2,3)/6 Av (L)', 'station_complex_id': '601'}\n",
      "{'ridership': 29695, 'station_complex': '59 St-Columbus Circle (A,B,C,D,1)', 'station_complex_id': '614'}\n",
      "{'ridership': 29475, 'station_complex': '96 St (1,2,3)', 'station_complex_id': '310'}\n"
     ]
    }
   ],
   "source": [
    "#Check to see which stations need express trains (1,2,3)\n",
    "#find stations with the most swipes between WTC and 96th (1,2,3)\n",
    "p6 = [\n",
    "    # Filter documents by latitude within the range of WTC and 96th\n",
    "    {\"$match\": {\"latitude\": {\"$gte\": 40.7118339539, \"$lte\": 40.7939186096}}},\n",
    "    # Filter documents where 1 train runs into the station complex\n",
    "    {\"$match\": {\"$or\": [\n",
    "        {\"station_complex\": {\"$regex\": \"\\(1\"}},\n",
    "        {\"station_complex\": {\"$regex\": \",1\"}},\n",
    "    ]}},\n",
    "    # Group documents by station_complex and station_complex_id, calculate the sum of swipes for each group\n",
    "    {\"$group\": {\"_id\": {\"station_complex\": \"$station_complex\", \"station_complex_id\": \"$station_complex_id\"}, \"ridership\": {\"$sum\": 1}}},\n",
    "    # Project the station_complex, station_complex_id, and ridership fields\n",
    "    {\"$project\": {\"station_complex\": \"$_id.station_complex\", \"station_complex_id\": \"$_id.station_complex_id\", \"ridership\": 1, \"_id\": 0}},\n",
    "    # Sort ridership in descending order\n",
    "    {\"$sort\": {\"ridership\": -1}}\n",
    "]\n",
    "\n",
    "r6 = collection.aggregate(p6)\n",
    "\n",
    "#Create a for loop to show the top 5 stations\n",
    "count = 0\n",
    "\n",
    "print(\"Stations With the most swipes between WTC and 96th (1,2,3)\")\n",
    "for result in r6:\n",
    "    if count < 5:\n",
    "        print(result)\n",
    "        count += 1\n",
    "    else:\n",
    "        break"
   ]
  },
  {
   "cell_type": "code",
   "execution_count": 67,
   "id": "7d37faeb-a33d-44b3-8bcf-c3fde5b39052",
   "metadata": {
    "tags": []
   },
   "outputs": [
    {
     "name": "stdout",
     "output_type": "stream",
     "text": [
      "242nd:\n",
      "{'station_complex_id': '293', 'station_complex': 'Van Cortlandt Park-242 St (1)', 'latitude': 40.8892478943, 'longitude': -73.8985824585}\n",
      "103rd:\n",
      "{'station_complex_id': '309', 'station_complex': '103 St (1)', 'latitude': 40.799446106, 'longitude': -73.9683761597}\n"
     ]
    }
   ],
   "source": [
    "# Finding Coordinates for Uptown/Bronx 1 train (103rd - Van Cort 242nd)\n",
    "# We search for stations that are 103rd (1) and 242nd (1)\n",
    "t1 = {\"station_complex\": {\"$regex\": \"Van Cort\", \"$options\": \"i\"}}\n",
    "a1 = {\"station_complex\": 1, \"station_complex_id\": 1,\"latitude\": 1,\"longitude\": 1, \"_id\": 0}\n",
    "result_van = collection.find_one(t1, a1)\n",
    "\n",
    "# Query for 103rd & 168th\n",
    "t2 = {\"station_complex\": {\"$regex\": \"103 St \\(1\\)\", \"$options\": \"i\"}}\n",
    "result_103 = collection.find_one(t2, a1)\n",
    "\n",
    "\n",
    "# Print results for both stations\n",
    "print(\"242nd:\")\n",
    "print(result_van)\n",
    "\n",
    "print(\"103rd:\")\n",
    "print(result_103)\n"
   ]
  },
  {
   "cell_type": "code",
   "execution_count": 68,
   "id": "6fac3281-adab-4ae5-981b-3213fcbdb894",
   "metadata": {
    "tags": []
   },
   "outputs": [
    {
     "name": "stdout",
     "output_type": "stream",
     "text": [
      "1 Train Stations with the most Swipes Uptown (103rd - 242nd)\n",
      "{'ridership': 28265, 'station_complex': '168 St (A,C,1)', 'station_complex_id': '605'}\n",
      "{'ridership': 27530, 'station_complex': 'Cathedral Pkwy (110 St) (1)', 'station_complex_id': '308'}\n",
      "{'ridership': 27315, 'station_complex': '103 St (1)', 'station_complex_id': '309'}\n",
      "{'ridership': 27260, 'station_complex': '157 St (1)', 'station_complex_id': '303'}\n",
      "{'ridership': 26795, 'station_complex': '181 St (1)', 'station_complex_id': '301'}\n"
     ]
    }
   ],
   "source": [
    "# Find Uptown 1 train stations (M + Bx) with the most swipes\n",
    "p7 = [\n",
    "    # Filter documents by latitude within the range of Uptown stations (103rd - 242nd)\n",
    "    {\"$match\": {\"latitude\": {\"$gte\": 40.799446106, \"$lte\": 40.8892478943}}},\n",
    "    # Filter documents where 1 train runs into the station complex\n",
    "    {\"$match\": {\"$or\": [\n",
    "        {\"station_complex\": {\"$regex\": \"\\(1\"}},\n",
    "        {\"station_complex\": {\"$regex\": \",1\"}},\n",
    "    ]}},\n",
    "    # Group documents by station_complex and station_complex_id, calculate the sum of swipes for each group\n",
    "    {\"$group\": {\"_id\": {\"station_complex\": \"$station_complex\", \"station_complex_id\": \"$station_complex_id\"}, \"ridership\": {\"$sum\": 1}}},\n",
    "    # Project the station_complex, station_complex_id, and ridership fields\n",
    "    {\"$project\": {\"station_complex\": \"$_id.station_complex\", \"station_complex_id\": \"$_id.station_complex_id\", \"ridership\": 1, \"_id\": 0}},\n",
    "    # Sort ridership in descending order\n",
    "    {\"$sort\": {\"ridership\": -1}}\n",
    "]\n",
    "\n",
    "# Execute the aggregation pipeline\n",
    "r7 = collection.aggregate(p7)\n",
    "\n",
    "#Create a for loop to show the top 5 stations\n",
    "count = 0\n",
    "\n",
    "# Display the results\n",
    "print(\"1 Train Stations with the most Swipes Uptown (103rd - 242nd)\")\n",
    "for result in r7:\n",
    "    if count < 5:\n",
    "        print(result)\n",
    "        count += 1\n",
    "    else:\n",
    "        break"
   ]
  },
  {
   "cell_type": "code",
   "execution_count": 69,
   "id": "64b47c47-25e5-456c-83d9-7382a375f5a6",
   "metadata": {
    "tags": []
   },
   "outputs": [
    {
     "name": "stdout",
     "output_type": "stream",
     "text": [
      "110:\n",
      "{'station_complex_id': '441', 'station_complex': 'Central Park North (110 St) (2,3)', 'latitude': 40.7990760803, 'longitude': -73.9518203735}\n",
      "Wakefield:\n",
      "{'station_complex_id': '416', 'station_complex': 'Wakefield-241 St (2)', 'latitude': 40.9031257629, 'longitude': -73.8506164551}\n"
     ]
    }
   ],
   "source": [
    "#Finding Coordinates of the 2 Train Uptown/Bronx\n",
    "t1 = {\"station_complex\": {\"$regex\": \"Central Park\", \"$options\": \"i\"}}\n",
    "a1 = {\"station_complex\": 1, \"station_complex_id\": 1,\"latitude\": 1,\"longitude\": 1, \"_id\": 0}\n",
    "result_110 = collection.find_one(t1, a1)\n",
    "\n",
    "# Query for Wakefield 241\n",
    "t2 = {\"station_complex\": {\"$regex\": \"Wakefield\", \"$options\": \"i\"}}\n",
    "result_wakefield = collection.find_one(t2, a1)\n",
    "\n",
    "\n",
    "# Print results\n",
    "print(\"110:\")\n",
    "print(result_110)\n",
    "\n",
    "print(\"Wakefield:\")\n",
    "print(result_wakefield)"
   ]
  },
  {
   "cell_type": "code",
   "execution_count": 70,
   "id": "66e1f318-ae7d-491c-9760-fbd73c2b785a",
   "metadata": {
    "tags": []
   },
   "outputs": [
    {
     "name": "stdout",
     "output_type": "stream",
     "text": [
      "The most swiped in stations in Uptown/Bronx that have the 2 train\n",
      "{'ridership': 27120, 'station_complex': '125 St (2,3)', 'station_complex_id': '439'}\n",
      "{'ridership': 26700, 'station_complex': '135 St (2,3)', 'station_complex_id': '438'}\n",
      "{'ridership': 26590, 'station_complex': '116 St (2,3)', 'station_complex_id': '440'}\n",
      "{'ridership': 26515, 'station_complex': '149 St-Grand Concourse (2,4,5)', 'station_complex_id': '603'}\n",
      "{'ridership': 26330, 'station_complex': 'Pelham Pkwy (2,5)', 'station_complex_id': '424'}\n"
     ]
    }
   ],
   "source": [
    "#Which Uptown 2 trains need express\n",
    "p8 = [\n",
    "    # Filter documents by latitude within the range of Uptown/Bronx stations (103rd - 242nd)\n",
    "    {\"$match\": {\"latitude\": {\"$gte\": 40.799076080322266, \"$lte\": 40.90312576293945}}},\n",
    "    # Filter documents where 2 train runs into the station complex\n",
    "    {\"$match\": {\"$or\": [\n",
    "        {\"station_complex\": {\"$regex\": \"\\(2\"}},\n",
    "        {\"station_complex\": {\"$regex\": \",2\"}},\n",
    "    ]}},\n",
    "    # Group documents by station_complex and station_complex_id, calculate the sum of swipes for each group\n",
    "    {\"$group\": {\"_id\": {\"station_complex\": \"$station_complex\", \"station_complex_id\": \"$station_complex_id\"}, \"ridership\": {\"$sum\": 1}}},\n",
    "    # Project the station_complex, station_complex_id, and ridership fields\n",
    "    {\"$project\": {\"station_complex\": \"$_id.station_complex\", \"station_complex_id\": \"$_id.station_complex_id\", \"ridership\": 1, \"_id\": 0}},\n",
    "    # Sort ridership in descending order\n",
    "    {\"$sort\": {\"ridership\": -1}}\n",
    "]\n",
    "\n",
    "r8 = collection.aggregate(p8)\n",
    "\n",
    "# A counter for top 5 results\n",
    "count = 0\n",
    "\n",
    "# Display the results\n",
    "print(\"The most swiped in stations in Uptown/Bronx that have the 2 train\")\n",
    "for result in r8:\n",
    "    if count < 5:\n",
    "        print(result)\n",
    "        count += 1\n",
    "    else:\n",
    "        break"
   ]
  },
  {
   "cell_type": "code",
   "execution_count": 71,
   "id": "9585e1e3-66ae-471f-b531-0676db21f27f",
   "metadata": {
    "tags": []
   },
   "outputs": [
    {
     "name": "stdout",
     "output_type": "stream",
     "text": [
      "The most swiped stations in Brooklyn that have the 2 train\n",
      "{'ridership': 30630, 'station_complex': 'Atlantic Av-Barclays Ctr (B,D,N,Q,R,2,3,4,5)', 'station_complex_id': '617'}\n",
      "{'ridership': 27640, 'station_complex': 'Court St (R)/Borough Hall (2,3,4,5)', 'station_complex_id': '620'}\n",
      "{'ridership': 27335, 'station_complex': 'Flatbush Av-Brooklyn College (2,5)', 'station_complex_id': '359'}\n",
      "{'ridership': 26805, 'station_complex': 'Franklin Av (2,3,4,5)/Botanic Garden (S)', 'station_complex_id': '626'}\n",
      "{'ridership': 25905, 'station_complex': 'Nevins St (2,3,4,5)', 'station_complex_id': '337'}\n"
     ]
    }
   ],
   "source": [
    "#Finding Which 2 Train Stations need express Brooklyn/Downtown\n",
    "p9 = [\n",
    "    # Filter documents by borough Brooklyn\n",
    "    {\"$match\": {\"borough\": {\"$regex\": \"Brooklyn\"}}},\n",
    "    # Filter documents where 2 train runs into the station complex\n",
    "    {\"$match\": {\"$or\": [\n",
    "        {\"station_complex\": {\"$regex\": \"\\(2\"}},\n",
    "        {\"station_complex\": {\"$regex\": \",2\"}},\n",
    "    ]}},\n",
    "    # Group documents by station_complex and station_complex_id, calculate the sum of swipes for each group\n",
    "    {\"$group\": {\"_id\": {\"station_complex\": \"$station_complex\", \"station_complex_id\": \"$station_complex_id\"}, \"ridership\": {\"$sum\": 1}}},\n",
    "    # Project the station_complex, station_complex_id, and ridership fields\n",
    "    {\"$project\": {\"station_complex\": \"$_id.station_complex\", \"station_complex_id\": \"$_id.station_complex_id\", \"ridership\": 1, \"_id\": 0}},\n",
    "    # Sort ridership in descending order\n",
    "    {\"$sort\": {\"ridership\": -1}}\n",
    "]\n",
    "\n",
    "r9 = collection.aggregate(p9)\n",
    "\n",
    "# A counter for top 5 results\n",
    "count = 0\n",
    "\n",
    "# Display the results\n",
    "print(\"The most swiped stations in Brooklyn that have the 2 train\")\n",
    "for result in r9:\n",
    "    if count < 5:\n",
    "        print(result)\n",
    "        count += 1\n",
    "    else:\n",
    "        break"
   ]
  },
  {
   "cell_type": "code",
   "execution_count": 72,
   "id": "6656649f-0c9d-4a34-9a3d-d2717bf31c47",
   "metadata": {
    "tags": []
   },
   "outputs": [
    {
     "name": "stdout",
     "output_type": "stream",
     "text": [
      "The most swiped stations in Manhattan on the Green Line (4,5,6)\n",
      "{'ridership': 30700, 'station_complex': 'Grand Central-42 St (S,4,5,6,7)', 'station_complex_id': '610'}\n",
      "{'ridership': 30205, 'station_complex': '14 St-Union Sq (L,N,Q,R,W,4,5,6)', 'station_complex_id': '602'}\n",
      "{'ridership': 29320, 'station_complex': 'Lexington Av (N,R,W)/59 St (4,5,6)', 'station_complex_id': '613'}\n",
      "{'ridership': 28850, 'station_complex': '86 St (4,5,6)', 'station_complex_id': '397'}\n",
      "{'ridership': 28645, 'station_complex': 'Lexington Av-53 St (E,M)/51 St (6)', 'station_complex_id': '612'}\n"
     ]
    }
   ],
   "source": [
    "# Finding Which stations need express (4,5,6 train Manhattan)\n",
    "p10 = [\n",
    "    # Filter documents by borough Manhattan\n",
    "    {\"$match\": {\"borough\": {\"$regex\": \"Manhattan\"}}},\n",
    "    # Filter documents where 6 train runs into the station complex\n",
    "    {\"$match\": {\"$or\": [\n",
    "        {\"station_complex\": {\"$regex\": \"\\(6\"}},\n",
    "        {\"station_complex\": {\"$regex\": \",6\"}},\n",
    "    ]}},\n",
    "    # Group documents by station_complex and station_complex_id, calculate the sum of swipes for each group\n",
    "    {\"$group\": {\"_id\": {\"station_complex\": \"$station_complex\", \"station_complex_id\": \"$station_complex_id\"}, \"ridership\": {\"$sum\": 1}}},\n",
    "    # Project the station_complex, station_complex_id, and ridership fields\n",
    "    {\"$project\": {\"station_complex\": \"$_id.station_complex\", \"station_complex_id\": \"$_id.station_complex_id\", \"ridership\": 1, \"_id\": 0}},\n",
    "    # Sort ridership in descending order\n",
    "    {\"$sort\": {\"ridership\": -1}}\n",
    "]\n",
    "\n",
    "r10 = collection.aggregate(p10)\n",
    "\n",
    "# A counter for top 5 results\n",
    "count = 0\n",
    "\n",
    "# Display the results\n",
    "print(\"The most swiped stations in Manhattan on the Green Line (4,5,6)\")\n",
    "for result in r10:\n",
    "    if count < 5:\n",
    "        print(result)\n",
    "        count += 1\n",
    "    else:\n",
    "        break"
   ]
  },
  {
   "cell_type": "code",
   "execution_count": 73,
   "id": "a1b2522c-71ae-4959-ba0c-95be5e6de582",
   "metadata": {
    "tags": []
   },
   "outputs": [
    {
     "name": "stdout",
     "output_type": "stream",
     "text": [
      "The most swiped stations in Bronx that have the 4 train\n",
      "{'ridership': 27635, 'station_complex': '161 St-Yankee Stadium (B,D,4)', 'station_complex_id': '604'}\n",
      "{'ridership': 26960, 'station_complex': 'Fordham Rd (4)', 'station_complex_id': '382'}\n",
      "{'ridership': 26515, 'station_complex': '149 St-Grand Concourse (2,4,5)', 'station_complex_id': '603'}\n",
      "{'ridership': 26330, 'station_complex': 'Burnside Av (4)', 'station_complex_id': '384'}\n",
      "{'ridership': 26115, 'station_complex': 'Kingsbridge Rd (4)', 'station_complex_id': '381'}\n"
     ]
    }
   ],
   "source": [
    "#Now we check which stations need Express on 4 Train Uptown/Bronx\n",
    "p11 = [\n",
    "    # Filter documents by borough Bronx\n",
    "    {\"$match\": {\"borough\": {\"$regex\": \"Bronx\"}}},\n",
    "    # Filter documents where 4 train runs into the station complex\n",
    "    {\"$match\": {\"$or\": [\n",
    "        {\"station_complex\": {\"$regex\": \"\\(4\"}},\n",
    "        {\"station_complex\": {\"$regex\": \",4\"}},\n",
    "    ]}},\n",
    "    # Group documents by station_complex and station_complex_id, calculate the sum of swipes for each group\n",
    "    {\"$group\": {\"_id\": {\"station_complex\": \"$station_complex\", \"station_complex_id\": \"$station_complex_id\"}, \"ridership\": {\"$sum\": 1}}},\n",
    "    # Project the station_complex, station_complex_id, and ridership fields\n",
    "    {\"$project\": {\"station_complex\": \"$_id.station_complex\", \"station_complex_id\": \"$_id.station_complex_id\", \"ridership\": 1, \"_id\": 0}},\n",
    "    # Sort ridership in descending order\n",
    "    {\"$sort\": {\"ridership\": -1}}\n",
    "]\n",
    "\n",
    "r11 = collection.aggregate(p11)\n",
    "\n",
    "# A counter for top 5 results\n",
    "count = 0\n",
    "\n",
    "# Display the results\n",
    "print(\"The most swiped stations in Bronx that have the 4 train\")\n",
    "for result in r11:\n",
    "    if count < 5:\n",
    "        print(result)\n",
    "        count += 1\n",
    "    else:\n",
    "        break"
   ]
  },
  {
   "cell_type": "code",
   "execution_count": 74,
   "id": "3298acde-8f4d-4bfe-a801-871bda15f7fd",
   "metadata": {
    "tags": []
   },
   "outputs": [
    {
     "name": "stdout",
     "output_type": "stream",
     "text": [
      "The most swiped stations in Bronx that have the 6 train\n",
      "{'ridership': 27240, 'station_complex': 'Parkchester (6)', 'station_complex_id': '366'}\n",
      "{'ridership': 26600, 'station_complex': 'Hunts Point Av (6)', 'station_complex_id': '371'}\n",
      "{'ridership': 26600, 'station_complex': '3 Av-138 St (6)', 'station_complex_id': '377'}\n",
      "{'ridership': 26205, 'station_complex': 'Pelham Bay Park (6)', 'station_complex_id': '360'}\n",
      "{'ridership': 25300, 'station_complex': 'Morrison Av-Soundview (6)', 'station_complex_id': '368'}\n"
     ]
    }
   ],
   "source": [
    "#Now we check which stations need Express on 6 Train Uptown/Bronx\n",
    "p12 = [\n",
    "    # Filter documents by borough Bronx\n",
    "    {\"$match\": {\"borough\": {\"$regex\": \"Bronx\"}}},\n",
    "    # Filter documents where 6 train runs into the station complex\n",
    "    {\"$match\": {\"$or\": [\n",
    "        {\"station_complex\": {\"$regex\": \"\\(6\"}},\n",
    "        {\"station_complex\": {\"$regex\": \",6\"}},\n",
    "    ]}},\n",
    "    # Group documents by station_complex and station_complex_id, calculate the sum of swipes for each group\n",
    "    {\"$group\": {\"_id\": {\"station_complex\": \"$station_complex\", \"station_complex_id\": \"$station_complex_id\"}, \"ridership\": {\"$sum\": 1}}},\n",
    "    # Project the station_complex, station_complex_id, and ridership fields\n",
    "    {\"$project\": {\"station_complex\": \"$_id.station_complex\", \"station_complex_id\": \"$_id.station_complex_id\", \"ridership\": 1, \"_id\": 0}},\n",
    "    # Sort ridership in descending order\n",
    "    {\"$sort\": {\"ridership\": -1}}\n",
    "]\n",
    "\n",
    "r12 = collection.aggregate(p12)\n",
    "\n",
    "# A counter for top 5 results\n",
    "count = 0\n",
    "\n",
    "# Display the results\n",
    "print(\"The most swiped stations in Bronx that have the 6 train\")\n",
    "for result in r12:\n",
    "    if count < 5:\n",
    "        print(result)\n",
    "        count += 1\n",
    "    else:\n",
    "        break"
   ]
  },
  {
   "cell_type": "code",
   "execution_count": 75,
   "id": "f2b9f70b-55e0-4144-a75c-d517c02833c7",
   "metadata": {
    "tags": []
   },
   "outputs": [
    {
     "name": "stdout",
     "output_type": "stream",
     "text": [
      "The most swiped stations in Queens that have the 7 train\n",
      "{'ridership': 30945, 'station_complex': '74-Broadway (7)/Jackson Hts-Roosevelt Av (E,F,M,R)', 'station_complex_id': '616'}\n",
      "{'ridership': 27975, 'station_complex': 'Flushing-Main St (7)', 'station_complex_id': '447'}\n",
      "{'ridership': 27355, 'station_complex': 'Court Sq (E,G,M,7)', 'station_complex_id': '606'}\n",
      "{'ridership': 27270, 'station_complex': '82 St-Jackson Hts (7)', 'station_complex_id': '453'}\n",
      "{'ridership': 27225, 'station_complex': 'Junction Blvd (7)', 'station_complex_id': '451'}\n"
     ]
    }
   ],
   "source": [
    "#Which stations need Express on 7 Train Queens\n",
    "p13 = [\n",
    "    # Filter documents by borough Queens\n",
    "    {\"$match\": {\"borough\": {\"$regex\": \"Queens\"}}},\n",
    "    # Filter documents where 7 train runs into the station complex\n",
    "    {\"$match\": {\"$or\": [\n",
    "        {\"station_complex\": {\"$regex\": \"\\(7\"}},\n",
    "        {\"station_complex\": {\"$regex\": \",7\"}},\n",
    "    ]}},\n",
    "    # Group documents by station_complex and station_complex_id, calculate the sum of swipes for each group\n",
    "    {\"$group\": {\"_id\": {\"station_complex\": \"$station_complex\", \"station_complex_id\": \"$station_complex_id\"}, \"ridership\": {\"$sum\": 1}}},\n",
    "    # Project the station_complex, station_complex_id, and ridership fields\n",
    "    {\"$project\": {\"station_complex\": \"$_id.station_complex\", \"station_complex_id\": \"$_id.station_complex_id\", \"ridership\": 1, \"_id\": 0}},\n",
    "    # Sort ridership in descending order\n",
    "    {\"$sort\": {\"ridership\": -1}}\n",
    "]\n",
    "\n",
    "r13 = collection.aggregate(p13)\n",
    "\n",
    "# A counter for top 5 results\n",
    "count = 0\n",
    "\n",
    "# Display the results\n",
    "print(\"The most swiped stations in Queens that have the 7 train\")\n",
    "for result in r13:\n",
    "    if count < 5:\n",
    "        print(result)\n",
    "        count += 1\n",
    "    else:\n",
    "        break"
   ]
  },
  {
   "cell_type": "code",
   "execution_count": 76,
   "id": "1c00ccb6-fece-4df1-a497-2bf377f6d8a7",
   "metadata": {
    "tags": []
   },
   "outputs": [
    {
     "name": "stdout",
     "output_type": "stream",
     "text": [
      "The most swiped stations in Brooklyn that have the F train\n",
      "{'ridership': 28580, 'station_complex': 'Jay St-MetroTech (A,C,F,R)', 'station_complex_id': '636'}\n",
      "{'ridership': 27185, 'station_complex': 'Coney Island-Stillwell Av (D,F,N,Q)', 'station_complex_id': '58'}\n",
      "{'ridership': 26850, 'station_complex': '4 Av (F,G)/9 St (R)', 'station_complex_id': '608'}\n",
      "{'ridership': 26515, 'station_complex': 'Church Av (F,G)', 'station_complex_id': '243'}\n",
      "{'ridership': 25680, 'station_complex': '7 Av (F,G)', 'station_complex_id': '240'}\n"
     ]
    }
   ],
   "source": [
    "#Which stations need Express on F Train Brooklyn\n",
    "p14 = [\n",
    "    # Filter documents by borough Brooklyn\n",
    "    {\"$match\": {\"borough\": {\"$regex\": \"Brooklyn\"}}},\n",
    "    # Filter documents where F train runs into the station complex\n",
    "    {\"$match\": {\"$or\": [\n",
    "        {\"station_complex\": {\"$regex\": \"\\(F\"}},\n",
    "        {\"station_complex\": {\"$regex\": \",F\"}},\n",
    "    ]}},\n",
    "    # Group documents by station_complex and station_complex_id, calculate the sum of swipes for each group\n",
    "    {\"$group\": {\"_id\": {\"station_complex\": \"$station_complex\", \"station_complex_id\": \"$station_complex_id\"}, \"ridership\": {\"$sum\": 1}}},\n",
    "    # Project the station_complex, station_complex_id, and ridership fields\n",
    "    {\"$project\": {\"station_complex\": \"$_id.station_complex\", \"station_complex_id\": \"$_id.station_complex_id\", \"ridership\": 1, \"_id\": 0}},\n",
    "    # Sort ridership in descending order\n",
    "    {\"$sort\": {\"ridership\": -1}}\n",
    "]\n",
    "\n",
    "r14 = collection.aggregate(p14)\n",
    "\n",
    "# A counter for top 5 results\n",
    "count = 0\n",
    "\n",
    "# Display the results\n",
    "print(\"The most swiped stations in Brooklyn that have the F train\")\n",
    "for result in r14:\n",
    "    if count < 5:\n",
    "        print(result)\n",
    "        count += 1\n",
    "    else:\n",
    "        break"
   ]
  },
  {
   "cell_type": "code",
   "execution_count": 77,
   "id": "0edb3564-6172-452f-943a-da83e20d8a48",
   "metadata": {
    "tags": []
   },
   "outputs": [
    {
     "name": "stdout",
     "output_type": "stream",
     "text": [
      "The most swiped stations in Queens that have the M train\n",
      "{'ridership': 30945, 'station_complex': '74-Broadway (7)/Jackson Hts-Roosevelt Av (E,F,M,R)', 'station_complex_id': '616'}\n",
      "{'ridership': 28580, 'station_complex': 'Forest Hills-71 Av (E,F,M,R)', 'station_complex_id': '261'}\n",
      "{'ridership': 27355, 'station_complex': 'Court Sq (E,G,M,7)', 'station_complex_id': '606'}\n",
      "{'ridership': 26600, 'station_complex': '63 Dr-Rego Park (M,R)', 'station_complex_id': '263'}\n",
      "{'ridership': 26510, 'station_complex': 'Woodhaven Blvd (M,R)', 'station_complex_id': '264'}\n"
     ]
    }
   ],
   "source": [
    "#Which stations need Express on M Train Queens\n",
    "p15 = [\n",
    "    # Filter documents by borough Queens\n",
    "    {\"$match\": {\"borough\": {\"$regex\": \"Queens\"}}},\n",
    "    # Filter documents where M train runs into the station complex\n",
    "    {\"$match\": {\"$or\": [\n",
    "        {\"station_complex\": {\"$regex\": \"\\(M\"}},\n",
    "        {\"station_complex\": {\"$regex\": \",M\"}},\n",
    "    ]}},\n",
    "    # Group documents by station_complex and station_complex_id, calculate the sum of swipes for each group\n",
    "    {\"$group\": {\"_id\": {\"station_complex\": \"$station_complex\", \"station_complex_id\": \"$station_complex_id\"}, \"ridership\": {\"$sum\": 1}}},\n",
    "    # Project the station_complex, station_complex_id, and ridership fields\n",
    "    {\"$project\": {\"station_complex\": \"$_id.station_complex\", \"station_complex_id\": \"$_id.station_complex_id\", \"ridership\": 1, \"_id\": 0}},\n",
    "    # Sort ridership in descending order\n",
    "    {\"$sort\": {\"ridership\": -1}}\n",
    "]\n",
    "\n",
    "r15 = collection.aggregate(p15)\n",
    "\n",
    "# A counter for top 5 results\n",
    "count = 0\n",
    "\n",
    "# Display the results\n",
    "print(\"The most swiped stations in Queens that have the M train\")\n",
    "for result in r15:\n",
    "    if count < 5:\n",
    "        print(result)\n",
    "        count += 1\n",
    "    else:\n",
    "        break"
   ]
  },
  {
   "cell_type": "code",
   "execution_count": 78,
   "id": "4959ae48-8f9f-4591-98b6-bf41cbb850a7",
   "metadata": {
    "tags": []
   },
   "outputs": [
    {
     "name": "stdout",
     "output_type": "stream",
     "text": [
      "The most swiped stations in Queens that have the A train\n",
      "{'ridership': 25945, 'station_complex': 'Rockaway Blvd (A)', 'station_complex_id': '192'}\n",
      "{'ridership': 25495, 'station_complex': 'Far Rockaway-Mott Av (A)', 'station_complex_id': '209'}\n",
      "{'ridership': 25380, 'station_complex': 'Ozone Park-Lefferts Blvd (A)', 'station_complex_id': '195'}\n",
      "{'ridership': 23915, 'station_complex': 'Howard Beach-JFK Airport (A)', 'station_complex_id': '198'}\n",
      "{'ridership': 23875, 'station_complex': '80 St (A)', 'station_complex_id': '190'}\n"
     ]
    }
   ],
   "source": [
    "#Which stations need Express on A Train Queens\n",
    "p16 = [\n",
    "    # Filter documents by borough Queens\n",
    "    {\"$match\": {\"borough\": {\"$regex\": \"Queens\"}}},\n",
    "    # Filter documents where A train runs into the station complex\n",
    "    {\"$match\": {\"$or\": [\n",
    "        {\"station_complex\": {\"$regex\": \"\\(A\"}},\n",
    "        {\"station_complex\": {\"$regex\": \",A\"}},\n",
    "    ]}},\n",
    "    # Group documents by station_complex and station_complex_id, calculate the sum of swipes for each group\n",
    "    {\"$group\": {\"_id\": {\"station_complex\": \"$station_complex\", \"station_complex_id\": \"$station_complex_id\"}, \"ridership\": {\"$sum\": 1}}},\n",
    "    # Project the station_complex, station_complex_id, and ridership fields\n",
    "    {\"$project\": {\"station_complex\": \"$_id.station_complex\", \"station_complex_id\": \"$_id.station_complex_id\", \"ridership\": 1, \"_id\": 0}},\n",
    "    # Sort ridership in descending order\n",
    "    {\"$sort\": {\"ridership\": -1}}\n",
    "]\n",
    "\n",
    "r16 = collection.aggregate(p16)\n",
    "\n",
    "# A counter for top 5 results\n",
    "count = 0\n",
    "\n",
    "# Display the results\n",
    "print(\"The most swiped stations in Queens that have the A train\")\n",
    "for result in r16:\n",
    "    if count < 5:\n",
    "        print(result)\n",
    "        count += 1\n",
    "    else:\n",
    "        break"
   ]
  },
  {
   "cell_type": "code",
   "execution_count": 79,
   "id": "6e1c19d1-92f7-42cd-b260-6615e9533022",
   "metadata": {
    "tags": []
   },
   "outputs": [
    {
     "name": "stdout",
     "output_type": "stream",
     "text": [
      "The most swiped stations in Queens that have the N train\n",
      "{'ridership': 26895, 'station_complex': 'Queensboro Plaza (7,N,W)', 'station_complex_id': '461'}\n",
      "{'ridership': 26440, 'station_complex': 'Astoria-Ditmars Blvd (N,W)', 'station_complex_id': '1'}\n",
      "{'ridership': 26405, 'station_complex': 'Broadway (N,W)', 'station_complex_id': '4'}\n",
      "{'ridership': 26225, 'station_complex': '30 Av (N,W)', 'station_complex_id': '3'}\n",
      "{'ridership': 25625, 'station_complex': 'Astoria Blvd (N,W)', 'station_complex_id': '2'}\n"
     ]
    }
   ],
   "source": [
    "#Which stations need Express on N Train Queens\n",
    "p17 = [\n",
    "    # Filter documents by borough Queens\n",
    "    {\"$match\": {\"borough\": {\"$regex\": \"Queens\"}}},\n",
    "    # Filter documents where N train runs into the station complex\n",
    "    {\"$match\": {\"$or\": [\n",
    "        {\"station_complex\": {\"$regex\": \"\\(N\"}},\n",
    "        {\"station_complex\": {\"$regex\": \",N\"}},\n",
    "    ]}},\n",
    "    # Group documents by station_complex and station_complex_id, calculate the sum of swipes for each group\n",
    "    {\"$group\": {\"_id\": {\"station_complex\": \"$station_complex\", \"station_complex_id\": \"$station_complex_id\"}, \"ridership\": {\"$sum\": 1}}},\n",
    "    # Project the station_complex, station_complex_id, and ridership fields\n",
    "    {\"$project\": {\"station_complex\": \"$_id.station_complex\", \"station_complex_id\": \"$_id.station_complex_id\", \"ridership\": 1, \"_id\": 0}},\n",
    "    # Sort ridership in descending order\n",
    "    {\"$sort\": {\"ridership\": -1}}\n",
    "]\n",
    "\n",
    "r17 = collection.aggregate(p17)\n",
    "\n",
    "# A counter for top 5 results\n",
    "count = 0\n",
    "\n",
    "# Display the results\n",
    "print(\"The most swiped stations in Queens that have the N train\")\n",
    "for result in r17:\n",
    "    if count < 5:\n",
    "        print(result)\n",
    "        count += 1\n",
    "    else:\n",
    "        break"
   ]
  },
  {
   "cell_type": "code",
   "execution_count": 80,
   "id": "07458b9c-2d8a-4be8-8b8a-ca80582bd28c",
   "metadata": {
    "tags": []
   },
   "outputs": [
    {
     "name": "stdout",
     "output_type": "stream",
     "text": [
      "The most swiped stations in Brooklyn that have the N train\n",
      "{'ridership': 30630, 'station_complex': 'Atlantic Av-Barclays Ctr (B,D,N,Q,R,2,3,4,5)', 'station_complex_id': '617'}\n",
      "{'ridership': 27185, 'station_complex': 'Coney Island-Stillwell Av (D,F,N,Q)', 'station_complex_id': '58'}\n",
      "{'ridership': 26740, 'station_complex': '36 St (D,N,R)', 'station_complex_id': '32'}\n",
      "{'ridership': 26245, 'station_complex': '59 St (N,R)', 'station_complex_id': '35'}\n",
      "{'ridership': 25280, 'station_complex': '8 Av (N)', 'station_complex_id': '71'}\n"
     ]
    }
   ],
   "source": [
    "#Which stations need Express on N Train Brooklyn\n",
    "p18 = [\n",
    "    # Filter documents by borough Brooklyn\n",
    "    {\"$match\": {\"borough\": {\"$regex\": \"Brooklyn\"}}},\n",
    "    # Filter documents where N train runs into the station complex\n",
    "    {\"$match\": {\"$or\": [\n",
    "        {\"station_complex\": {\"$regex\": \"\\(N\"}},\n",
    "        {\"station_complex\": {\"$regex\": \",N\"}},\n",
    "    ]}},\n",
    "    # Group documents by station_complex and station_complex_id, calculate the sum of swipes for each group\n",
    "    {\"$group\": {\"_id\": {\"station_complex\": \"$station_complex\", \"station_complex_id\": \"$station_complex_id\"}, \"ridership\": {\"$sum\": 1}}},\n",
    "    # Project the station_complex, station_complex_id, and ridership fields\n",
    "    {\"$project\": {\"station_complex\": \"$_id.station_complex\", \"station_complex_id\": \"$_id.station_complex_id\", \"ridership\": 1, \"_id\": 0}},\n",
    "    # Sort ridership in descending order\n",
    "    {\"$sort\": {\"ridership\": -1}}\n",
    "]\n",
    "\n",
    "r18 = collection.aggregate(p18)\n",
    "\n",
    "# A counter for top 5 results\n",
    "count = 0\n",
    "\n",
    "# Display the results\n",
    "print(\"The most swiped stations in Brooklyn that have the N train\")\n",
    "for result in r18:\n",
    "    if count < 5:\n",
    "        print(result)\n",
    "        count += 1\n",
    "    else:\n",
    "        break"
   ]
  },
  {
   "cell_type": "code",
   "execution_count": 81,
   "id": "043a6aa6-328f-4ab8-b38d-3830be075261",
   "metadata": {
    "tags": []
   },
   "outputs": [
    {
     "name": "stdout",
     "output_type": "stream",
     "text": [
      "The most swiped stations in Brooklyn that have the Z train\n",
      "{'ridership': 28125, 'station_complex': 'Sutphin Blvd-Archer Av-JFK Airport (E,J,Z)', 'station_complex_id': '279'}\n",
      "{'ridership': 28020, 'station_complex': 'Jamaica Center-Parsons/Archer (E,J,Z)', 'station_complex_id': '278'}\n",
      "{'ridership': 26615, 'station_complex': 'Marcy Av (M,J,Z)', 'station_complex_id': '101'}\n",
      "{'ridership': 26545, 'station_complex': 'Broadway Junction (A,C,J,L,Z)', 'station_complex_id': '621'}\n",
      "{'ridership': 26240, 'station_complex': 'Myrtle Av (M,J,Z)', 'station_complex_id': '97'}\n"
     ]
    }
   ],
   "source": [
    "#Which stations need Express on Z Train Brooklyn & Queens\n",
    "p19 = [\n",
    "    # Filter documents by borough other than Manhattan\n",
    "    {\"$match\": {\"borough\": {\"$ne\": \"Manhattan\"}}},\n",
    "    # Filter documents where Z train runs into the station complex\n",
    "    {\"$match\": {\"$or\": [\n",
    "        {\"station_complex\": {\"$regex\": \"\\(Z\"}},\n",
    "        {\"station_complex\": {\"$regex\": \",Z\"}},\n",
    "    ]}},\n",
    "    # Group documents by station_complex and station_complex_id, calculate the sum of swipes for each group\n",
    "    {\"$group\": {\"_id\": {\"station_complex\": \"$station_complex\", \"station_complex_id\": \"$station_complex_id\"}, \"ridership\": {\"$sum\": 1}}},\n",
    "    # Project the station_complex, station_complex_id, and ridership fields\n",
    "    {\"$project\": {\"station_complex\": \"$_id.station_complex\", \"station_complex_id\": \"$_id.station_complex_id\", \"ridership\": 1, \"_id\": 0}},\n",
    "    # Sort ridership in descending order\n",
    "    {\"$sort\": {\"ridership\": -1}}\n",
    "]\n",
    "\n",
    "r19 = collection.aggregate(p19)\n",
    "\n",
    "# A counter for top 5 results\n",
    "count = 0\n",
    "\n",
    "# Display the results\n",
    "print(\"The most swiped stations in Brooklyn that have the Z train\")\n",
    "for result in r19:\n",
    "    if count < 5:\n",
    "        print(result)\n",
    "        count += 1\n",
    "    else:\n",
    "        break"
   ]
  },
  {
   "cell_type": "code",
   "execution_count": 82,
   "id": "46833acc-4a53-43a3-a84f-345b1cff49fc",
   "metadata": {
    "tags": []
   },
   "outputs": [
    {
     "name": "stdout",
     "output_type": "stream",
     "text": [
      "The most swiped stations that have the L train\n",
      "{'ridership': 27295, 'station_complex': 'Myrtle-Wyckoff Avs (L,M)', 'station_complex_id': '630'}\n",
      "{'ridership': 26935, 'station_complex': 'Lorimer St (L)/Metropolitan Av (G)', 'station_complex_id': '629'}\n",
      "{'ridership': 26545, 'station_complex': 'Broadway Junction (A,C,J,L,Z)', 'station_complex_id': '621'}\n",
      "{'ridership': 25680, 'station_complex': 'Bedford Av (L)', 'station_complex_id': '120'}\n",
      "{'ridership': 25140, 'station_complex': 'New Lots Av (L)', 'station_complex_id': '136'}\n"
     ]
    }
   ],
   "source": [
    "#Which stations need Express on L Train\n",
    "p20 = [\n",
    "    # Filter documents by borough other than Manhattan\n",
    "    {\"$match\": {\"borough\": {\"$ne\": \"Manhattan\"}}},\n",
    "    # Filter documents where L train runs into the station complex\n",
    "    {\"$match\": {\"$or\": [\n",
    "        {\"station_complex\": {\"$regex\": \"\\(L\"}},\n",
    "        {\"station_complex\": {\"$regex\": \",L\"}},\n",
    "    ]}},\n",
    "    # Group documents by station_complex and station_complex_id, calculate the sum of swipes for each group\n",
    "    {\"$group\": {\"_id\": {\"station_complex\": \"$station_complex\", \"station_complex_id\": \"$station_complex_id\"}, \"ridership\": {\"$sum\": 1}}},\n",
    "    # Project the station_complex, station_complex_id, and ridership fields\n",
    "    {\"$project\": {\"station_complex\": \"$_id.station_complex\", \"station_complex_id\": \"$_id.station_complex_id\", \"ridership\": 1, \"_id\": 0}},\n",
    "    # Sort ridership in descending order\n",
    "    {\"$sort\": {\"ridership\": -1}}\n",
    "]\n",
    "\n",
    "r20 = collection.aggregate(p20)\n",
    "\n",
    "# A counter for top 5 results\n",
    "count = 0\n",
    "\n",
    "# Display the results\n",
    "print(\"The most swiped stations that have the L train\")\n",
    "for result in r20:\n",
    "    if count < 5:\n",
    "        print(result)\n",
    "        count += 1\n",
    "    else:\n",
    "        break"
   ]
  },
  {
   "cell_type": "code",
   "execution_count": 85,
   "id": "4b7f3f0b",
   "metadata": {},
   "outputs": [],
   "source": [
    "import numpy as np\n",
    "import pandas as pd\n",
    "import json\n",
    "import os as os"
   ]
  },
  {
   "cell_type": "code",
   "execution_count": 86,
   "id": "d15d8664",
   "metadata": {},
   "outputs": [],
   "source": [
    "#Write the output to a webpage using Flask\n",
    "from flask import Flask, render_template\n",
    "app = Flask(\"newApp\")"
   ]
  },
  {
   "cell_type": "code",
   "execution_count": 87,
   "id": "8edb2ed0",
   "metadata": {},
   "outputs": [],
   "source": [
    "@app.route('/', methods=['GET', 'POST'])\n",
    "def index():\n",
    "    # Initialize variables\n",
    "    borough_results = []\n",
    "    line_results = []\n",
    "    line = None  # Set a default value for 'line'\n",
    "\n",
    "    if request.method == 'POST':\n",
    "        selected_boroughs = request.form.getlist('borough')  # Retrieves all checked boroughs\n",
    "        line = request.form.get('line')  # Retrieve the line from the form input\n",
    "        if line:  # Check if a line was entered\n",
    "            regex = r\"\\(\" + line + \"|\" + \",\" + line\n",
    "            line_pipeline = [\n",
    "                {\"$match\": {\"$and\": [\n",
    "                    {\"station_complex\": {\"$regex\": regex}},\n",
    "                    {\"borough\": {\"$in\": selected_boroughs}}\n",
    "                ]}},\n",
    "                {\"$group\": {\"_id\": {\"station_complex\": \"$station_complex\", \"borough\": \"$borough\"}, \"ridership\": {\"$sum\": 1}}},\n",
    "                {\"$project\": {\"station_complex\": \"$_id.station_complex\", \"borough\": \"$_id.borough\", \"ridership\": 1, \"_id\": 0}},\n",
    "                {\"$sort\": {\"ridership\": -1}},\n",
    "                {\"$limit\": 5}\n",
    "            ]\n",
    "            line_results = list(collection.aggregate(line_pipeline))\n",
    "    else:\n",
    "        # If it's a GET request, display the default borough results\n",
    "        borough_pipeline = [\n",
    "            {\"$group\": {\"_id\": \"$borough\", \"ridership\": {\"$sum\": 1}}},\n",
    "            {\"$project\": {\"borough\": \"$_id\", \"ridership\": 1, \"_id\": 0}},\n",
    "            {\"$sort\": {\"ridership\": -1}}\n",
    "        ]\n",
    "        borough_results = list(collection.aggregate(borough_pipeline))\n",
    "\n",
    "    return render_template('demo.html', borough_results=borough_results, line_results=line_results, line=line)"
   ]
  },
  {
   "cell_type": "code",
   "execution_count": 88,
   "id": "265cdda1",
   "metadata": {},
   "outputs": [
    {
     "name": "stdout",
     "output_type": "stream",
     "text": [
      " * Serving Flask app 'newApp'\n",
      " * Debug mode: off\n"
     ]
    },
    {
     "name": "stderr",
     "output_type": "stream",
     "text": [
      "INFO:werkzeug:\u001b[31m\u001b[1mWARNING: This is a development server. Do not use it in a production deployment. Use a production WSGI server instead.\u001b[0m\n",
      " * Running on http://localhost:5001\n",
      "INFO:werkzeug:\u001b[33mPress CTRL+C to quit\u001b[0m\n",
      "INFO:werkzeug:127.0.0.1 - - [17/Apr/2024 18:41:51] \"GET / HTTP/1.1\" 200 -\n",
      "INFO:werkzeug:127.0.0.1 - - [17/Apr/2024 18:42:16] \"POST / HTTP/1.1\" 200 -\n",
      "INFO:werkzeug:127.0.0.1 - - [17/Apr/2024 18:42:37] \"POST / HTTP/1.1\" 200 -\n",
      "INFO:werkzeug:127.0.0.1 - - [17/Apr/2024 18:42:46] \"POST / HTTP/1.1\" 200 -\n"
     ]
    }
   ],
   "source": [
    "#Starts the Flask web server on the local machine at port 5001.\n",
    "app.run(host='localhost', port=5001)"
   ]
  }
 ],
 "metadata": {
  "kernelspec": {
   "display_name": "Python 3 (ipykernel)",
   "language": "python",
   "name": "python3"
  },
  "language_info": {
   "codemirror_mode": {
    "name": "ipython",
    "version": 3
   },
   "file_extension": ".py",
   "mimetype": "text/x-python",
   "name": "python",
   "nbconvert_exporter": "python",
   "pygments_lexer": "ipython3",
   "version": "3.11.4"
  }
 },
 "nbformat": 4,
 "nbformat_minor": 5
}
